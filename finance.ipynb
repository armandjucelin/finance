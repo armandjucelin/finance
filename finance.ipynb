{
 "cells": [
  {
   "cell_type": "markdown",
   "id": "6deefb11",
   "metadata": {},
   "source": [
    "# Project Task: Week 1\n",
    "Exploratory Data Analysis (EDA):\n",
    "1.\tPerform an EDA on the Dataset.\n",
    "•\tCheck all the latent features and parameters with their mean and standard deviation. Value are close to 0 centered (mean) with unit standard deviation\n"
   ]
  },
  {
   "cell_type": "code",
   "execution_count": 1,
   "id": "605b2a8e",
   "metadata": {},
   "outputs": [],
   "source": [
    "#import libraries\n",
    "import pandas as pd\n",
    "import numpy as np\n",
    "import seaborn as sns\n",
    "import matplotlib.pyplot as plt\n",
    "\n",
    "\n",
    "from tensorflow.keras.optimizers import RMSprop\n",
    "\n",
    "import warnings\n",
    "warnings.filterwarnings('ignore')"
   ]
  },
  {
   "cell_type": "code",
   "execution_count": 2,
   "id": "9139898a",
   "metadata": {},
   "outputs": [
    {
     "data": {
      "text/html": [
       "<div>\n",
       "<style scoped>\n",
       "    .dataframe tbody tr th:only-of-type {\n",
       "        vertical-align: middle;\n",
       "    }\n",
       "\n",
       "    .dataframe tbody tr th {\n",
       "        vertical-align: top;\n",
       "    }\n",
       "\n",
       "    .dataframe thead th {\n",
       "        text-align: right;\n",
       "    }\n",
       "</style>\n",
       "<table border=\"1\" class=\"dataframe\">\n",
       "  <thead>\n",
       "    <tr style=\"text-align: right;\">\n",
       "      <th></th>\n",
       "      <th>Time</th>\n",
       "      <th>V1</th>\n",
       "      <th>V2</th>\n",
       "      <th>V3</th>\n",
       "      <th>V4</th>\n",
       "      <th>V5</th>\n",
       "      <th>V6</th>\n",
       "      <th>V7</th>\n",
       "      <th>V8</th>\n",
       "      <th>V9</th>\n",
       "      <th>...</th>\n",
       "      <th>V21</th>\n",
       "      <th>V22</th>\n",
       "      <th>V23</th>\n",
       "      <th>V24</th>\n",
       "      <th>V25</th>\n",
       "      <th>V26</th>\n",
       "      <th>V27</th>\n",
       "      <th>V28</th>\n",
       "      <th>Amount</th>\n",
       "      <th>Class</th>\n",
       "    </tr>\n",
       "  </thead>\n",
       "  <tbody>\n",
       "    <tr>\n",
       "      <th>0</th>\n",
       "      <td>38355.0</td>\n",
       "      <td>1.043949</td>\n",
       "      <td>0.318555</td>\n",
       "      <td>1.045810</td>\n",
       "      <td>2.805989</td>\n",
       "      <td>-0.561113</td>\n",
       "      <td>-0.367956</td>\n",
       "      <td>0.032736</td>\n",
       "      <td>-0.042333</td>\n",
       "      <td>-0.322674</td>\n",
       "      <td>...</td>\n",
       "      <td>-0.240105</td>\n",
       "      <td>-0.680315</td>\n",
       "      <td>0.085328</td>\n",
       "      <td>0.684812</td>\n",
       "      <td>0.318620</td>\n",
       "      <td>-0.204963</td>\n",
       "      <td>0.001662</td>\n",
       "      <td>0.037894</td>\n",
       "      <td>49.67</td>\n",
       "      <td>0</td>\n",
       "    </tr>\n",
       "    <tr>\n",
       "      <th>1</th>\n",
       "      <td>22555.0</td>\n",
       "      <td>-1.665159</td>\n",
       "      <td>0.808440</td>\n",
       "      <td>1.805627</td>\n",
       "      <td>1.903416</td>\n",
       "      <td>-0.821627</td>\n",
       "      <td>0.934790</td>\n",
       "      <td>-0.824802</td>\n",
       "      <td>0.975890</td>\n",
       "      <td>1.747469</td>\n",
       "      <td>...</td>\n",
       "      <td>-0.335332</td>\n",
       "      <td>-0.510994</td>\n",
       "      <td>0.035839</td>\n",
       "      <td>0.147565</td>\n",
       "      <td>-0.529358</td>\n",
       "      <td>-0.566950</td>\n",
       "      <td>-0.595998</td>\n",
       "      <td>-0.220086</td>\n",
       "      <td>16.94</td>\n",
       "      <td>0</td>\n",
       "    </tr>\n",
       "    <tr>\n",
       "      <th>2</th>\n",
       "      <td>2431.0</td>\n",
       "      <td>-0.324096</td>\n",
       "      <td>0.601836</td>\n",
       "      <td>0.865329</td>\n",
       "      <td>-2.138000</td>\n",
       "      <td>0.294663</td>\n",
       "      <td>-1.251553</td>\n",
       "      <td>1.072114</td>\n",
       "      <td>-0.334896</td>\n",
       "      <td>1.071268</td>\n",
       "      <td>...</td>\n",
       "      <td>0.012220</td>\n",
       "      <td>0.352856</td>\n",
       "      <td>-0.341505</td>\n",
       "      <td>-0.145791</td>\n",
       "      <td>0.094194</td>\n",
       "      <td>-0.804026</td>\n",
       "      <td>0.229428</td>\n",
       "      <td>-0.021623</td>\n",
       "      <td>1.00</td>\n",
       "      <td>0</td>\n",
       "    </tr>\n",
       "    <tr>\n",
       "      <th>3</th>\n",
       "      <td>86773.0</td>\n",
       "      <td>-0.258270</td>\n",
       "      <td>1.217501</td>\n",
       "      <td>-0.585348</td>\n",
       "      <td>-0.875347</td>\n",
       "      <td>1.222481</td>\n",
       "      <td>-0.311027</td>\n",
       "      <td>1.073860</td>\n",
       "      <td>-0.161408</td>\n",
       "      <td>0.200665</td>\n",
       "      <td>...</td>\n",
       "      <td>-0.424626</td>\n",
       "      <td>-0.781158</td>\n",
       "      <td>0.019316</td>\n",
       "      <td>0.178614</td>\n",
       "      <td>-0.315616</td>\n",
       "      <td>0.096665</td>\n",
       "      <td>0.269740</td>\n",
       "      <td>-0.020635</td>\n",
       "      <td>10.78</td>\n",
       "      <td>0</td>\n",
       "    </tr>\n",
       "    <tr>\n",
       "      <th>4</th>\n",
       "      <td>127202.0</td>\n",
       "      <td>2.142162</td>\n",
       "      <td>-0.494988</td>\n",
       "      <td>-1.936511</td>\n",
       "      <td>-0.818288</td>\n",
       "      <td>-0.025213</td>\n",
       "      <td>-1.027245</td>\n",
       "      <td>-0.151627</td>\n",
       "      <td>-0.305750</td>\n",
       "      <td>-0.869482</td>\n",
       "      <td>...</td>\n",
       "      <td>0.010115</td>\n",
       "      <td>0.021722</td>\n",
       "      <td>0.079463</td>\n",
       "      <td>-0.480899</td>\n",
       "      <td>0.023846</td>\n",
       "      <td>-0.279076</td>\n",
       "      <td>-0.030121</td>\n",
       "      <td>-0.043888</td>\n",
       "      <td>39.96</td>\n",
       "      <td>0</td>\n",
       "    </tr>\n",
       "  </tbody>\n",
       "</table>\n",
       "<p>5 rows × 31 columns</p>\n",
       "</div>"
      ],
      "text/plain": [
       "       Time        V1        V2        V3        V4        V5        V6  \\\n",
       "0   38355.0  1.043949  0.318555  1.045810  2.805989 -0.561113 -0.367956   \n",
       "1   22555.0 -1.665159  0.808440  1.805627  1.903416 -0.821627  0.934790   \n",
       "2    2431.0 -0.324096  0.601836  0.865329 -2.138000  0.294663 -1.251553   \n",
       "3   86773.0 -0.258270  1.217501 -0.585348 -0.875347  1.222481 -0.311027   \n",
       "4  127202.0  2.142162 -0.494988 -1.936511 -0.818288 -0.025213 -1.027245   \n",
       "\n",
       "         V7        V8        V9  ...       V21       V22       V23       V24  \\\n",
       "0  0.032736 -0.042333 -0.322674  ... -0.240105 -0.680315  0.085328  0.684812   \n",
       "1 -0.824802  0.975890  1.747469  ... -0.335332 -0.510994  0.035839  0.147565   \n",
       "2  1.072114 -0.334896  1.071268  ...  0.012220  0.352856 -0.341505 -0.145791   \n",
       "3  1.073860 -0.161408  0.200665  ... -0.424626 -0.781158  0.019316  0.178614   \n",
       "4 -0.151627 -0.305750 -0.869482  ...  0.010115  0.021722  0.079463 -0.480899   \n",
       "\n",
       "        V25       V26       V27       V28  Amount  Class  \n",
       "0  0.318620 -0.204963  0.001662  0.037894   49.67      0  \n",
       "1 -0.529358 -0.566950 -0.595998 -0.220086   16.94      0  \n",
       "2  0.094194 -0.804026  0.229428 -0.021623    1.00      0  \n",
       "3 -0.315616  0.096665  0.269740 -0.020635   10.78      0  \n",
       "4  0.023846 -0.279076 -0.030121 -0.043888   39.96      0  \n",
       "\n",
       "[5 rows x 31 columns]"
      ]
     },
     "execution_count": 2,
     "metadata": {},
     "output_type": "execute_result"
    }
   ],
   "source": [
    "#load the dataset\n",
    "train_data = pd.read_csv('train_data.csv')\n",
    "train_data.head()"
   ]
  },
  {
   "cell_type": "code",
   "execution_count": 3,
   "id": "385d47af",
   "metadata": {},
   "outputs": [
    {
     "data": {
      "text/html": [
       "<div>\n",
       "<style scoped>\n",
       "    .dataframe tbody tr th:only-of-type {\n",
       "        vertical-align: middle;\n",
       "    }\n",
       "\n",
       "    .dataframe tbody tr th {\n",
       "        vertical-align: top;\n",
       "    }\n",
       "\n",
       "    .dataframe thead th {\n",
       "        text-align: right;\n",
       "    }\n",
       "</style>\n",
       "<table border=\"1\" class=\"dataframe\">\n",
       "  <thead>\n",
       "    <tr style=\"text-align: right;\">\n",
       "      <th></th>\n",
       "      <th>Time</th>\n",
       "      <th>V1</th>\n",
       "      <th>V2</th>\n",
       "      <th>V3</th>\n",
       "      <th>V4</th>\n",
       "      <th>V5</th>\n",
       "      <th>V6</th>\n",
       "      <th>V7</th>\n",
       "      <th>V8</th>\n",
       "      <th>V9</th>\n",
       "      <th>...</th>\n",
       "      <th>V21</th>\n",
       "      <th>V22</th>\n",
       "      <th>V23</th>\n",
       "      <th>V24</th>\n",
       "      <th>V25</th>\n",
       "      <th>V26</th>\n",
       "      <th>V27</th>\n",
       "      <th>V28</th>\n",
       "      <th>Amount</th>\n",
       "      <th>Class</th>\n",
       "    </tr>\n",
       "  </thead>\n",
       "  <tbody>\n",
       "    <tr>\n",
       "      <th>0</th>\n",
       "      <td>38355.0</td>\n",
       "      <td>1.043949</td>\n",
       "      <td>0.318555</td>\n",
       "      <td>1.045810</td>\n",
       "      <td>2.805989</td>\n",
       "      <td>-0.561113</td>\n",
       "      <td>-0.367956</td>\n",
       "      <td>0.032736</td>\n",
       "      <td>-0.042333</td>\n",
       "      <td>-0.322674</td>\n",
       "      <td>...</td>\n",
       "      <td>-0.240105</td>\n",
       "      <td>-0.680315</td>\n",
       "      <td>0.085328</td>\n",
       "      <td>0.684812</td>\n",
       "      <td>0.318620</td>\n",
       "      <td>-0.204963</td>\n",
       "      <td>0.001662</td>\n",
       "      <td>0.037894</td>\n",
       "      <td>49.67</td>\n",
       "      <td>0</td>\n",
       "    </tr>\n",
       "    <tr>\n",
       "      <th>1</th>\n",
       "      <td>22555.0</td>\n",
       "      <td>-1.665159</td>\n",
       "      <td>0.808440</td>\n",
       "      <td>1.805627</td>\n",
       "      <td>1.903416</td>\n",
       "      <td>-0.821627</td>\n",
       "      <td>0.934790</td>\n",
       "      <td>-0.824802</td>\n",
       "      <td>0.975890</td>\n",
       "      <td>1.747469</td>\n",
       "      <td>...</td>\n",
       "      <td>-0.335332</td>\n",
       "      <td>-0.510994</td>\n",
       "      <td>0.035839</td>\n",
       "      <td>0.147565</td>\n",
       "      <td>-0.529358</td>\n",
       "      <td>-0.566950</td>\n",
       "      <td>-0.595998</td>\n",
       "      <td>-0.220086</td>\n",
       "      <td>16.94</td>\n",
       "      <td>0</td>\n",
       "    </tr>\n",
       "    <tr>\n",
       "      <th>2</th>\n",
       "      <td>2431.0</td>\n",
       "      <td>-0.324096</td>\n",
       "      <td>0.601836</td>\n",
       "      <td>0.865329</td>\n",
       "      <td>-2.138000</td>\n",
       "      <td>0.294663</td>\n",
       "      <td>-1.251553</td>\n",
       "      <td>1.072114</td>\n",
       "      <td>-0.334896</td>\n",
       "      <td>1.071268</td>\n",
       "      <td>...</td>\n",
       "      <td>0.012220</td>\n",
       "      <td>0.352856</td>\n",
       "      <td>-0.341505</td>\n",
       "      <td>-0.145791</td>\n",
       "      <td>0.094194</td>\n",
       "      <td>-0.804026</td>\n",
       "      <td>0.229428</td>\n",
       "      <td>-0.021623</td>\n",
       "      <td>1.00</td>\n",
       "      <td>0</td>\n",
       "    </tr>\n",
       "    <tr>\n",
       "      <th>3</th>\n",
       "      <td>86773.0</td>\n",
       "      <td>-0.258270</td>\n",
       "      <td>1.217501</td>\n",
       "      <td>-0.585348</td>\n",
       "      <td>-0.875347</td>\n",
       "      <td>1.222481</td>\n",
       "      <td>-0.311027</td>\n",
       "      <td>1.073860</td>\n",
       "      <td>-0.161408</td>\n",
       "      <td>0.200665</td>\n",
       "      <td>...</td>\n",
       "      <td>-0.424626</td>\n",
       "      <td>-0.781158</td>\n",
       "      <td>0.019316</td>\n",
       "      <td>0.178614</td>\n",
       "      <td>-0.315616</td>\n",
       "      <td>0.096665</td>\n",
       "      <td>0.269740</td>\n",
       "      <td>-0.020635</td>\n",
       "      <td>10.78</td>\n",
       "      <td>0</td>\n",
       "    </tr>\n",
       "    <tr>\n",
       "      <th>4</th>\n",
       "      <td>127202.0</td>\n",
       "      <td>2.142162</td>\n",
       "      <td>-0.494988</td>\n",
       "      <td>-1.936511</td>\n",
       "      <td>-0.818288</td>\n",
       "      <td>-0.025213</td>\n",
       "      <td>-1.027245</td>\n",
       "      <td>-0.151627</td>\n",
       "      <td>-0.305750</td>\n",
       "      <td>-0.869482</td>\n",
       "      <td>...</td>\n",
       "      <td>0.010115</td>\n",
       "      <td>0.021722</td>\n",
       "      <td>0.079463</td>\n",
       "      <td>-0.480899</td>\n",
       "      <td>0.023846</td>\n",
       "      <td>-0.279076</td>\n",
       "      <td>-0.030121</td>\n",
       "      <td>-0.043888</td>\n",
       "      <td>39.96</td>\n",
       "      <td>0</td>\n",
       "    </tr>\n",
       "  </tbody>\n",
       "</table>\n",
       "<p>5 rows × 31 columns</p>\n",
       "</div>"
      ],
      "text/plain": [
       "       Time        V1        V2        V3        V4        V5        V6  \\\n",
       "0   38355.0  1.043949  0.318555  1.045810  2.805989 -0.561113 -0.367956   \n",
       "1   22555.0 -1.665159  0.808440  1.805627  1.903416 -0.821627  0.934790   \n",
       "2    2431.0 -0.324096  0.601836  0.865329 -2.138000  0.294663 -1.251553   \n",
       "3   86773.0 -0.258270  1.217501 -0.585348 -0.875347  1.222481 -0.311027   \n",
       "4  127202.0  2.142162 -0.494988 -1.936511 -0.818288 -0.025213 -1.027245   \n",
       "\n",
       "         V7        V8        V9  ...       V21       V22       V23       V24  \\\n",
       "0  0.032736 -0.042333 -0.322674  ... -0.240105 -0.680315  0.085328  0.684812   \n",
       "1 -0.824802  0.975890  1.747469  ... -0.335332 -0.510994  0.035839  0.147565   \n",
       "2  1.072114 -0.334896  1.071268  ...  0.012220  0.352856 -0.341505 -0.145791   \n",
       "3  1.073860 -0.161408  0.200665  ... -0.424626 -0.781158  0.019316  0.178614   \n",
       "4 -0.151627 -0.305750 -0.869482  ...  0.010115  0.021722  0.079463 -0.480899   \n",
       "\n",
       "        V25       V26       V27       V28  Amount  Class  \n",
       "0  0.318620 -0.204963  0.001662  0.037894   49.67      0  \n",
       "1 -0.529358 -0.566950 -0.595998 -0.220086   16.94      0  \n",
       "2  0.094194 -0.804026  0.229428 -0.021623    1.00      0  \n",
       "3 -0.315616  0.096665  0.269740 -0.020635   10.78      0  \n",
       "4  0.023846 -0.279076 -0.030121 -0.043888   39.96      0  \n",
       "\n",
       "[5 rows x 31 columns]"
      ]
     },
     "execution_count": 3,
     "metadata": {},
     "output_type": "execute_result"
    }
   ],
   "source": [
    "test_data_1 = pd.read_csv('train_data.csv')\n",
    "test_data_1.head()"
   ]
  },
  {
   "cell_type": "code",
   "execution_count": 4,
   "id": "6ebc6691",
   "metadata": {},
   "outputs": [
    {
     "data": {
      "text/html": [
       "<div>\n",
       "<style scoped>\n",
       "    .dataframe tbody tr th:only-of-type {\n",
       "        vertical-align: middle;\n",
       "    }\n",
       "\n",
       "    .dataframe tbody tr th {\n",
       "        vertical-align: top;\n",
       "    }\n",
       "\n",
       "    .dataframe thead th {\n",
       "        text-align: right;\n",
       "    }\n",
       "</style>\n",
       "<table border=\"1\" class=\"dataframe\">\n",
       "  <thead>\n",
       "    <tr style=\"text-align: right;\">\n",
       "      <th></th>\n",
       "      <th>Time</th>\n",
       "      <th>V1</th>\n",
       "      <th>V2</th>\n",
       "      <th>V3</th>\n",
       "      <th>V4</th>\n",
       "      <th>V5</th>\n",
       "      <th>V6</th>\n",
       "      <th>V7</th>\n",
       "      <th>V8</th>\n",
       "      <th>V9</th>\n",
       "      <th>...</th>\n",
       "      <th>V21</th>\n",
       "      <th>V22</th>\n",
       "      <th>V23</th>\n",
       "      <th>V24</th>\n",
       "      <th>V25</th>\n",
       "      <th>V26</th>\n",
       "      <th>V27</th>\n",
       "      <th>V28</th>\n",
       "      <th>Amount</th>\n",
       "      <th>Class</th>\n",
       "    </tr>\n",
       "  </thead>\n",
       "  <tbody>\n",
       "    <tr>\n",
       "      <th>0</th>\n",
       "      <td>113050.0</td>\n",
       "      <td>0.114697</td>\n",
       "      <td>0.796303</td>\n",
       "      <td>-0.149553</td>\n",
       "      <td>-0.823011</td>\n",
       "      <td>0.878763</td>\n",
       "      <td>-0.553152</td>\n",
       "      <td>0.939259</td>\n",
       "      <td>-0.108502</td>\n",
       "      <td>0.111137</td>\n",
       "      <td>...</td>\n",
       "      <td>-0.335776</td>\n",
       "      <td>-0.807853</td>\n",
       "      <td>-0.055940</td>\n",
       "      <td>-1.025281</td>\n",
       "      <td>-0.369557</td>\n",
       "      <td>0.204653</td>\n",
       "      <td>0.242724</td>\n",
       "      <td>0.085713</td>\n",
       "      <td>0.89</td>\n",
       "      <td>0</td>\n",
       "    </tr>\n",
       "    <tr>\n",
       "      <th>1</th>\n",
       "      <td>26667.0</td>\n",
       "      <td>-0.039318</td>\n",
       "      <td>0.495784</td>\n",
       "      <td>-0.810884</td>\n",
       "      <td>0.546693</td>\n",
       "      <td>1.986257</td>\n",
       "      <td>4.386342</td>\n",
       "      <td>-1.344891</td>\n",
       "      <td>-1.743736</td>\n",
       "      <td>-0.563103</td>\n",
       "      <td>...</td>\n",
       "      <td>-1.377003</td>\n",
       "      <td>-0.072200</td>\n",
       "      <td>-0.197573</td>\n",
       "      <td>1.014807</td>\n",
       "      <td>1.011293</td>\n",
       "      <td>-0.167684</td>\n",
       "      <td>0.113136</td>\n",
       "      <td>0.256836</td>\n",
       "      <td>85.00</td>\n",
       "      <td>0</td>\n",
       "    </tr>\n",
       "    <tr>\n",
       "      <th>2</th>\n",
       "      <td>159519.0</td>\n",
       "      <td>2.275706</td>\n",
       "      <td>-1.531508</td>\n",
       "      <td>-1.021969</td>\n",
       "      <td>-1.602152</td>\n",
       "      <td>-1.220329</td>\n",
       "      <td>-0.462376</td>\n",
       "      <td>-1.196485</td>\n",
       "      <td>-0.147058</td>\n",
       "      <td>-0.950224</td>\n",
       "      <td>...</td>\n",
       "      <td>-0.193271</td>\n",
       "      <td>-0.103533</td>\n",
       "      <td>0.150945</td>\n",
       "      <td>-0.811083</td>\n",
       "      <td>-0.197913</td>\n",
       "      <td>-0.128446</td>\n",
       "      <td>0.014197</td>\n",
       "      <td>-0.051289</td>\n",
       "      <td>42.70</td>\n",
       "      <td>0</td>\n",
       "    </tr>\n",
       "    <tr>\n",
       "      <th>3</th>\n",
       "      <td>137545.0</td>\n",
       "      <td>1.940137</td>\n",
       "      <td>-0.357671</td>\n",
       "      <td>-1.210551</td>\n",
       "      <td>0.382523</td>\n",
       "      <td>0.050823</td>\n",
       "      <td>-0.171322</td>\n",
       "      <td>-0.109124</td>\n",
       "      <td>-0.002115</td>\n",
       "      <td>0.869258</td>\n",
       "      <td>...</td>\n",
       "      <td>0.157994</td>\n",
       "      <td>0.650355</td>\n",
       "      <td>0.034206</td>\n",
       "      <td>0.739535</td>\n",
       "      <td>0.223605</td>\n",
       "      <td>-0.195509</td>\n",
       "      <td>-0.012791</td>\n",
       "      <td>-0.056841</td>\n",
       "      <td>29.99</td>\n",
       "      <td>0</td>\n",
       "    </tr>\n",
       "    <tr>\n",
       "      <th>4</th>\n",
       "      <td>63369.0</td>\n",
       "      <td>1.081395</td>\n",
       "      <td>-0.502615</td>\n",
       "      <td>1.075887</td>\n",
       "      <td>-0.543359</td>\n",
       "      <td>-1.472946</td>\n",
       "      <td>-1.065484</td>\n",
       "      <td>-0.443231</td>\n",
       "      <td>-0.143374</td>\n",
       "      <td>1.659826</td>\n",
       "      <td>...</td>\n",
       "      <td>0.224157</td>\n",
       "      <td>0.821209</td>\n",
       "      <td>-0.137223</td>\n",
       "      <td>0.986259</td>\n",
       "      <td>0.563228</td>\n",
       "      <td>-0.574206</td>\n",
       "      <td>0.089673</td>\n",
       "      <td>0.052036</td>\n",
       "      <td>68.00</td>\n",
       "      <td>0</td>\n",
       "    </tr>\n",
       "  </tbody>\n",
       "</table>\n",
       "<p>5 rows × 31 columns</p>\n",
       "</div>"
      ],
      "text/plain": [
       "       Time        V1        V2        V3        V4        V5        V6  \\\n",
       "0  113050.0  0.114697  0.796303 -0.149553 -0.823011  0.878763 -0.553152   \n",
       "1   26667.0 -0.039318  0.495784 -0.810884  0.546693  1.986257  4.386342   \n",
       "2  159519.0  2.275706 -1.531508 -1.021969 -1.602152 -1.220329 -0.462376   \n",
       "3  137545.0  1.940137 -0.357671 -1.210551  0.382523  0.050823 -0.171322   \n",
       "4   63369.0  1.081395 -0.502615  1.075887 -0.543359 -1.472946 -1.065484   \n",
       "\n",
       "         V7        V8        V9  ...       V21       V22       V23       V24  \\\n",
       "0  0.939259 -0.108502  0.111137  ... -0.335776 -0.807853 -0.055940 -1.025281   \n",
       "1 -1.344891 -1.743736 -0.563103  ... -1.377003 -0.072200 -0.197573  1.014807   \n",
       "2 -1.196485 -0.147058 -0.950224  ... -0.193271 -0.103533  0.150945 -0.811083   \n",
       "3 -0.109124 -0.002115  0.869258  ...  0.157994  0.650355  0.034206  0.739535   \n",
       "4 -0.443231 -0.143374  1.659826  ...  0.224157  0.821209 -0.137223  0.986259   \n",
       "\n",
       "        V25       V26       V27       V28  Amount  Class  \n",
       "0 -0.369557  0.204653  0.242724  0.085713    0.89      0  \n",
       "1  1.011293 -0.167684  0.113136  0.256836   85.00      0  \n",
       "2 -0.197913 -0.128446  0.014197 -0.051289   42.70      0  \n",
       "3  0.223605 -0.195509 -0.012791 -0.056841   29.99      0  \n",
       "4  0.563228 -0.574206  0.089673  0.052036   68.00      0  \n",
       "\n",
       "[5 rows x 31 columns]"
      ]
     },
     "execution_count": 4,
     "metadata": {},
     "output_type": "execute_result"
    }
   ],
   "source": [
    "test_hidden = pd.read_csv('test_data_hidden.csv')\n",
    "test_hidden.head()"
   ]
  },
  {
   "cell_type": "code",
   "execution_count": 5,
   "id": "9a2adbf4",
   "metadata": {},
   "outputs": [
    {
     "data": {
      "text/html": [
       "<div>\n",
       "<style scoped>\n",
       "    .dataframe tbody tr th:only-of-type {\n",
       "        vertical-align: middle;\n",
       "    }\n",
       "\n",
       "    .dataframe tbody tr th {\n",
       "        vertical-align: top;\n",
       "    }\n",
       "\n",
       "    .dataframe thead th {\n",
       "        text-align: right;\n",
       "    }\n",
       "</style>\n",
       "<table border=\"1\" class=\"dataframe\">\n",
       "  <thead>\n",
       "    <tr style=\"text-align: right;\">\n",
       "      <th></th>\n",
       "      <th>Time</th>\n",
       "      <th>V1</th>\n",
       "      <th>V2</th>\n",
       "      <th>V3</th>\n",
       "      <th>V4</th>\n",
       "      <th>V5</th>\n",
       "      <th>V6</th>\n",
       "      <th>V7</th>\n",
       "      <th>V8</th>\n",
       "      <th>V9</th>\n",
       "      <th>...</th>\n",
       "      <th>V21</th>\n",
       "      <th>V22</th>\n",
       "      <th>V23</th>\n",
       "      <th>V24</th>\n",
       "      <th>V25</th>\n",
       "      <th>V26</th>\n",
       "      <th>V27</th>\n",
       "      <th>V28</th>\n",
       "      <th>Amount</th>\n",
       "      <th>Class</th>\n",
       "    </tr>\n",
       "  </thead>\n",
       "  <tbody>\n",
       "    <tr>\n",
       "      <th>0</th>\n",
       "      <td>93853.0</td>\n",
       "      <td>-5.839192</td>\n",
       "      <td>7.151532</td>\n",
       "      <td>-12.816760</td>\n",
       "      <td>7.031115</td>\n",
       "      <td>-9.651272</td>\n",
       "      <td>-2.938427</td>\n",
       "      <td>-11.543207</td>\n",
       "      <td>4.843627</td>\n",
       "      <td>-3.494276</td>\n",
       "      <td>...</td>\n",
       "      <td>2.462056</td>\n",
       "      <td>1.054865</td>\n",
       "      <td>0.530481</td>\n",
       "      <td>0.47267</td>\n",
       "      <td>-0.275998</td>\n",
       "      <td>0.282435</td>\n",
       "      <td>0.104886</td>\n",
       "      <td>0.254417</td>\n",
       "      <td>316.06</td>\n",
       "      <td>1</td>\n",
       "    </tr>\n",
       "    <tr>\n",
       "      <th>1</th>\n",
       "      <td>152242.0</td>\n",
       "      <td>2.108097</td>\n",
       "      <td>0.274271</td>\n",
       "      <td>-2.233325</td>\n",
       "      <td>0.480383</td>\n",
       "      <td>0.568016</td>\n",
       "      <td>-2.003608</td>\n",
       "      <td>1.074235</td>\n",
       "      <td>-0.702590</td>\n",
       "      <td>0.024753</td>\n",
       "      <td>...</td>\n",
       "      <td>0.322425</td>\n",
       "      <td>1.177736</td>\n",
       "      <td>-0.167361</td>\n",
       "      <td>0.43452</td>\n",
       "      <td>0.769891</td>\n",
       "      <td>0.102772</td>\n",
       "      <td>-0.071621</td>\n",
       "      <td>-0.082331</td>\n",
       "      <td>1.00</td>\n",
       "      <td>0</td>\n",
       "    </tr>\n",
       "    <tr>\n",
       "      <th>2</th>\n",
       "      <td>152242.0</td>\n",
       "      <td>2.108097</td>\n",
       "      <td>0.274271</td>\n",
       "      <td>-2.233325</td>\n",
       "      <td>0.480383</td>\n",
       "      <td>0.568016</td>\n",
       "      <td>-2.003608</td>\n",
       "      <td>1.074235</td>\n",
       "      <td>-0.702590</td>\n",
       "      <td>0.024753</td>\n",
       "      <td>...</td>\n",
       "      <td>0.322425</td>\n",
       "      <td>1.177736</td>\n",
       "      <td>-0.167361</td>\n",
       "      <td>0.43452</td>\n",
       "      <td>0.769891</td>\n",
       "      <td>0.102772</td>\n",
       "      <td>-0.071621</td>\n",
       "      <td>-0.082331</td>\n",
       "      <td>1.00</td>\n",
       "      <td>0</td>\n",
       "    </tr>\n",
       "    <tr>\n",
       "      <th>3</th>\n",
       "      <td>152242.0</td>\n",
       "      <td>2.108097</td>\n",
       "      <td>0.274271</td>\n",
       "      <td>-2.233325</td>\n",
       "      <td>0.480383</td>\n",
       "      <td>0.568016</td>\n",
       "      <td>-2.003608</td>\n",
       "      <td>1.074235</td>\n",
       "      <td>-0.702590</td>\n",
       "      <td>0.024753</td>\n",
       "      <td>...</td>\n",
       "      <td>0.322425</td>\n",
       "      <td>1.177736</td>\n",
       "      <td>-0.167361</td>\n",
       "      <td>0.43452</td>\n",
       "      <td>0.769891</td>\n",
       "      <td>0.102772</td>\n",
       "      <td>-0.071621</td>\n",
       "      <td>-0.082331</td>\n",
       "      <td>1.00</td>\n",
       "      <td>0</td>\n",
       "    </tr>\n",
       "    <tr>\n",
       "      <th>4</th>\n",
       "      <td>152242.0</td>\n",
       "      <td>2.108097</td>\n",
       "      <td>0.274271</td>\n",
       "      <td>-2.233325</td>\n",
       "      <td>0.480383</td>\n",
       "      <td>0.568016</td>\n",
       "      <td>-2.003608</td>\n",
       "      <td>1.074235</td>\n",
       "      <td>-0.702590</td>\n",
       "      <td>0.024753</td>\n",
       "      <td>...</td>\n",
       "      <td>0.322425</td>\n",
       "      <td>1.177736</td>\n",
       "      <td>-0.167361</td>\n",
       "      <td>0.43452</td>\n",
       "      <td>0.769891</td>\n",
       "      <td>0.102772</td>\n",
       "      <td>-0.071621</td>\n",
       "      <td>-0.082331</td>\n",
       "      <td>1.00</td>\n",
       "      <td>0</td>\n",
       "    </tr>\n",
       "  </tbody>\n",
       "</table>\n",
       "<p>5 rows × 31 columns</p>\n",
       "</div>"
      ],
      "text/plain": [
       "       Time        V1        V2         V3        V4        V5        V6  \\\n",
       "0   93853.0 -5.839192  7.151532 -12.816760  7.031115 -9.651272 -2.938427   \n",
       "1  152242.0  2.108097  0.274271  -2.233325  0.480383  0.568016 -2.003608   \n",
       "2  152242.0  2.108097  0.274271  -2.233325  0.480383  0.568016 -2.003608   \n",
       "3  152242.0  2.108097  0.274271  -2.233325  0.480383  0.568016 -2.003608   \n",
       "4  152242.0  2.108097  0.274271  -2.233325  0.480383  0.568016 -2.003608   \n",
       "\n",
       "          V7        V8        V9  ...       V21       V22       V23      V24  \\\n",
       "0 -11.543207  4.843627 -3.494276  ...  2.462056  1.054865  0.530481  0.47267   \n",
       "1   1.074235 -0.702590  0.024753  ...  0.322425  1.177736 -0.167361  0.43452   \n",
       "2   1.074235 -0.702590  0.024753  ...  0.322425  1.177736 -0.167361  0.43452   \n",
       "3   1.074235 -0.702590  0.024753  ...  0.322425  1.177736 -0.167361  0.43452   \n",
       "4   1.074235 -0.702590  0.024753  ...  0.322425  1.177736 -0.167361  0.43452   \n",
       "\n",
       "        V25       V26       V27       V28  Amount  Class  \n",
       "0 -0.275998  0.282435  0.104886  0.254417  316.06      1  \n",
       "1  0.769891  0.102772 -0.071621 -0.082331    1.00      0  \n",
       "2  0.769891  0.102772 -0.071621 -0.082331    1.00      0  \n",
       "3  0.769891  0.102772 -0.071621 -0.082331    1.00      0  \n",
       "4  0.769891  0.102772 -0.071621 -0.082331    1.00      0  \n",
       "\n",
       "[5 rows x 31 columns]"
      ]
     },
     "execution_count": 5,
     "metadata": {},
     "output_type": "execute_result"
    }
   ],
   "source": [
    "test_data = pd.merge(test_data_1, test_hidden, how='inner')\n",
    "test_data.head()"
   ]
  },
  {
   "cell_type": "code",
   "execution_count": 6,
   "id": "889df30a",
   "metadata": {},
   "outputs": [
    {
     "data": {
      "text/plain": [
       "(227845, 31)"
      ]
     },
     "execution_count": 6,
     "metadata": {},
     "output_type": "execute_result"
    }
   ],
   "source": [
    "train_data.shape"
   ]
  },
  {
   "cell_type": "code",
   "execution_count": 7,
   "id": "31f991c9",
   "metadata": {},
   "outputs": [
    {
     "data": {
      "text/plain": [
       "(568, 31)"
      ]
     },
     "execution_count": 7,
     "metadata": {},
     "output_type": "execute_result"
    }
   ],
   "source": [
    "test_data.shape"
   ]
  },
  {
   "cell_type": "code",
   "execution_count": 8,
   "id": "a0db5815",
   "metadata": {},
   "outputs": [
    {
     "name": "stdout",
     "output_type": "stream",
     "text": [
      "<class 'pandas.core.frame.DataFrame'>\n",
      "RangeIndex: 227845 entries, 0 to 227844\n",
      "Data columns (total 31 columns):\n",
      " #   Column  Non-Null Count   Dtype  \n",
      "---  ------  --------------   -----  \n",
      " 0   Time    227845 non-null  float64\n",
      " 1   V1      227845 non-null  float64\n",
      " 2   V2      227845 non-null  float64\n",
      " 3   V3      227845 non-null  float64\n",
      " 4   V4      227845 non-null  float64\n",
      " 5   V5      227845 non-null  float64\n",
      " 6   V6      227845 non-null  float64\n",
      " 7   V7      227845 non-null  float64\n",
      " 8   V8      227845 non-null  float64\n",
      " 9   V9      227845 non-null  float64\n",
      " 10  V10     227845 non-null  float64\n",
      " 11  V11     227845 non-null  float64\n",
      " 12  V12     227845 non-null  float64\n",
      " 13  V13     227845 non-null  float64\n",
      " 14  V14     227845 non-null  float64\n",
      " 15  V15     227845 non-null  float64\n",
      " 16  V16     227845 non-null  float64\n",
      " 17  V17     227845 non-null  float64\n",
      " 18  V18     227845 non-null  float64\n",
      " 19  V19     227845 non-null  float64\n",
      " 20  V20     227845 non-null  float64\n",
      " 21  V21     227845 non-null  float64\n",
      " 22  V22     227845 non-null  float64\n",
      " 23  V23     227845 non-null  float64\n",
      " 24  V24     227845 non-null  float64\n",
      " 25  V25     227845 non-null  float64\n",
      " 26  V26     227845 non-null  float64\n",
      " 27  V27     227845 non-null  float64\n",
      " 28  V28     227845 non-null  float64\n",
      " 29  Amount  227845 non-null  float64\n",
      " 30  Class   227845 non-null  int64  \n",
      "dtypes: float64(30), int64(1)\n",
      "memory usage: 53.9 MB\n"
     ]
    }
   ],
   "source": [
    "train_data.info()"
   ]
  },
  {
   "cell_type": "code",
   "execution_count": 9,
   "id": "96b9ffe0",
   "metadata": {},
   "outputs": [
    {
     "name": "stdout",
     "output_type": "stream",
     "text": [
      "<class 'pandas.core.frame.DataFrame'>\n",
      "Int64Index: 568 entries, 0 to 567\n",
      "Data columns (total 31 columns):\n",
      " #   Column  Non-Null Count  Dtype  \n",
      "---  ------  --------------  -----  \n",
      " 0   Time    568 non-null    float64\n",
      " 1   V1      568 non-null    float64\n",
      " 2   V2      568 non-null    float64\n",
      " 3   V3      568 non-null    float64\n",
      " 4   V4      568 non-null    float64\n",
      " 5   V5      568 non-null    float64\n",
      " 6   V6      568 non-null    float64\n",
      " 7   V7      568 non-null    float64\n",
      " 8   V8      568 non-null    float64\n",
      " 9   V9      568 non-null    float64\n",
      " 10  V10     568 non-null    float64\n",
      " 11  V11     568 non-null    float64\n",
      " 12  V12     568 non-null    float64\n",
      " 13  V13     568 non-null    float64\n",
      " 14  V14     568 non-null    float64\n",
      " 15  V15     568 non-null    float64\n",
      " 16  V16     568 non-null    float64\n",
      " 17  V17     568 non-null    float64\n",
      " 18  V18     568 non-null    float64\n",
      " 19  V19     568 non-null    float64\n",
      " 20  V20     568 non-null    float64\n",
      " 21  V21     568 non-null    float64\n",
      " 22  V22     568 non-null    float64\n",
      " 23  V23     568 non-null    float64\n",
      " 24  V24     568 non-null    float64\n",
      " 25  V25     568 non-null    float64\n",
      " 26  V26     568 non-null    float64\n",
      " 27  V27     568 non-null    float64\n",
      " 28  V28     568 non-null    float64\n",
      " 29  Amount  568 non-null    float64\n",
      " 30  Class   568 non-null    int64  \n",
      "dtypes: float64(30), int64(1)\n",
      "memory usage: 142.0 KB\n"
     ]
    }
   ],
   "source": [
    "test_data.info()"
   ]
  },
  {
   "cell_type": "code",
   "execution_count": 10,
   "id": "48eec5f3",
   "metadata": {},
   "outputs": [
    {
     "data": {
      "text/html": [
       "<div>\n",
       "<style scoped>\n",
       "    .dataframe tbody tr th:only-of-type {\n",
       "        vertical-align: middle;\n",
       "    }\n",
       "\n",
       "    .dataframe tbody tr th {\n",
       "        vertical-align: top;\n",
       "    }\n",
       "\n",
       "    .dataframe thead th {\n",
       "        text-align: right;\n",
       "    }\n",
       "</style>\n",
       "<table border=\"1\" class=\"dataframe\">\n",
       "  <thead>\n",
       "    <tr style=\"text-align: right;\">\n",
       "      <th></th>\n",
       "      <th>Time</th>\n",
       "      <th>V1</th>\n",
       "      <th>V2</th>\n",
       "      <th>V3</th>\n",
       "      <th>V4</th>\n",
       "      <th>V5</th>\n",
       "      <th>V6</th>\n",
       "      <th>V7</th>\n",
       "      <th>V8</th>\n",
       "      <th>V9</th>\n",
       "      <th>...</th>\n",
       "      <th>V21</th>\n",
       "      <th>V22</th>\n",
       "      <th>V23</th>\n",
       "      <th>V24</th>\n",
       "      <th>V25</th>\n",
       "      <th>V26</th>\n",
       "      <th>V27</th>\n",
       "      <th>V28</th>\n",
       "      <th>Amount</th>\n",
       "      <th>Class</th>\n",
       "    </tr>\n",
       "  </thead>\n",
       "  <tbody>\n",
       "    <tr>\n",
       "      <th>count</th>\n",
       "      <td>227845.000000</td>\n",
       "      <td>227845.000000</td>\n",
       "      <td>227845.000000</td>\n",
       "      <td>227845.000000</td>\n",
       "      <td>227845.000000</td>\n",
       "      <td>227845.000000</td>\n",
       "      <td>227845.000000</td>\n",
       "      <td>227845.000000</td>\n",
       "      <td>227845.000000</td>\n",
       "      <td>227845.000000</td>\n",
       "      <td>...</td>\n",
       "      <td>227845.000000</td>\n",
       "      <td>227845.000000</td>\n",
       "      <td>227845.000000</td>\n",
       "      <td>227845.000000</td>\n",
       "      <td>227845.000000</td>\n",
       "      <td>227845.000000</td>\n",
       "      <td>227845.000000</td>\n",
       "      <td>227845.000000</td>\n",
       "      <td>227845.000000</td>\n",
       "      <td>227845.000000</td>\n",
       "    </tr>\n",
       "    <tr>\n",
       "      <th>mean</th>\n",
       "      <td>94752.853076</td>\n",
       "      <td>-0.003321</td>\n",
       "      <td>-0.001652</td>\n",
       "      <td>0.001066</td>\n",
       "      <td>-0.000374</td>\n",
       "      <td>0.000877</td>\n",
       "      <td>0.000770</td>\n",
       "      <td>-0.000035</td>\n",
       "      <td>0.001625</td>\n",
       "      <td>-0.000391</td>\n",
       "      <td>...</td>\n",
       "      <td>0.000563</td>\n",
       "      <td>0.001234</td>\n",
       "      <td>-0.001002</td>\n",
       "      <td>0.000254</td>\n",
       "      <td>0.000218</td>\n",
       "      <td>-0.001128</td>\n",
       "      <td>-0.000346</td>\n",
       "      <td>0.000498</td>\n",
       "      <td>88.522327</td>\n",
       "      <td>0.001729</td>\n",
       "    </tr>\n",
       "    <tr>\n",
       "      <th>std</th>\n",
       "      <td>47500.410602</td>\n",
       "      <td>1.963028</td>\n",
       "      <td>1.661178</td>\n",
       "      <td>1.516107</td>\n",
       "      <td>1.415061</td>\n",
       "      <td>1.367074</td>\n",
       "      <td>1.325341</td>\n",
       "      <td>1.220384</td>\n",
       "      <td>1.192648</td>\n",
       "      <td>1.097367</td>\n",
       "      <td>...</td>\n",
       "      <td>0.734187</td>\n",
       "      <td>0.724544</td>\n",
       "      <td>0.625165</td>\n",
       "      <td>0.606012</td>\n",
       "      <td>0.521348</td>\n",
       "      <td>0.482314</td>\n",
       "      <td>0.400286</td>\n",
       "      <td>0.331184</td>\n",
       "      <td>248.100141</td>\n",
       "      <td>0.041548</td>\n",
       "    </tr>\n",
       "    <tr>\n",
       "      <th>min</th>\n",
       "      <td>0.000000</td>\n",
       "      <td>-56.407510</td>\n",
       "      <td>-72.715728</td>\n",
       "      <td>-32.965346</td>\n",
       "      <td>-5.683171</td>\n",
       "      <td>-42.147898</td>\n",
       "      <td>-26.160506</td>\n",
       "      <td>-43.557242</td>\n",
       "      <td>-73.216718</td>\n",
       "      <td>-13.434066</td>\n",
       "      <td>...</td>\n",
       "      <td>-34.830382</td>\n",
       "      <td>-10.933144</td>\n",
       "      <td>-44.807735</td>\n",
       "      <td>-2.836627</td>\n",
       "      <td>-10.295397</td>\n",
       "      <td>-2.604551</td>\n",
       "      <td>-22.565679</td>\n",
       "      <td>-11.710896</td>\n",
       "      <td>0.000000</td>\n",
       "      <td>0.000000</td>\n",
       "    </tr>\n",
       "    <tr>\n",
       "      <th>25%</th>\n",
       "      <td>54182.000000</td>\n",
       "      <td>-0.922851</td>\n",
       "      <td>-0.598040</td>\n",
       "      <td>-0.889246</td>\n",
       "      <td>-0.848884</td>\n",
       "      <td>-0.690811</td>\n",
       "      <td>-0.767803</td>\n",
       "      <td>-0.554761</td>\n",
       "      <td>-0.207838</td>\n",
       "      <td>-0.643365</td>\n",
       "      <td>...</td>\n",
       "      <td>-0.228031</td>\n",
       "      <td>-0.540792</td>\n",
       "      <td>-0.162264</td>\n",
       "      <td>-0.354099</td>\n",
       "      <td>-0.317450</td>\n",
       "      <td>-0.327910</td>\n",
       "      <td>-0.070986</td>\n",
       "      <td>-0.053117</td>\n",
       "      <td>5.590000</td>\n",
       "      <td>0.000000</td>\n",
       "    </tr>\n",
       "    <tr>\n",
       "      <th>50%</th>\n",
       "      <td>84607.000000</td>\n",
       "      <td>0.012663</td>\n",
       "      <td>0.066665</td>\n",
       "      <td>0.182170</td>\n",
       "      <td>-0.019309</td>\n",
       "      <td>-0.055243</td>\n",
       "      <td>-0.273025</td>\n",
       "      <td>0.040409</td>\n",
       "      <td>0.022928</td>\n",
       "      <td>-0.050932</td>\n",
       "      <td>...</td>\n",
       "      <td>-0.028807</td>\n",
       "      <td>0.008697</td>\n",
       "      <td>-0.011614</td>\n",
       "      <td>0.041212</td>\n",
       "      <td>0.016221</td>\n",
       "      <td>-0.053257</td>\n",
       "      <td>0.001315</td>\n",
       "      <td>0.011216</td>\n",
       "      <td>22.000000</td>\n",
       "      <td>0.000000</td>\n",
       "    </tr>\n",
       "    <tr>\n",
       "      <th>75%</th>\n",
       "      <td>139340.000000</td>\n",
       "      <td>1.314821</td>\n",
       "      <td>0.804401</td>\n",
       "      <td>1.029449</td>\n",
       "      <td>0.744822</td>\n",
       "      <td>0.610852</td>\n",
       "      <td>0.400298</td>\n",
       "      <td>0.570631</td>\n",
       "      <td>0.327854</td>\n",
       "      <td>0.596671</td>\n",
       "      <td>...</td>\n",
       "      <td>0.186852</td>\n",
       "      <td>0.529535</td>\n",
       "      <td>0.147067</td>\n",
       "      <td>0.440051</td>\n",
       "      <td>0.351214</td>\n",
       "      <td>0.239885</td>\n",
       "      <td>0.091105</td>\n",
       "      <td>0.078458</td>\n",
       "      <td>77.070000</td>\n",
       "      <td>0.000000</td>\n",
       "    </tr>\n",
       "    <tr>\n",
       "      <th>max</th>\n",
       "      <td>172792.000000</td>\n",
       "      <td>2.454930</td>\n",
       "      <td>22.057729</td>\n",
       "      <td>9.382558</td>\n",
       "      <td>16.875344</td>\n",
       "      <td>34.801666</td>\n",
       "      <td>22.529298</td>\n",
       "      <td>36.877368</td>\n",
       "      <td>20.007208</td>\n",
       "      <td>15.594995</td>\n",
       "      <td>...</td>\n",
       "      <td>27.202839</td>\n",
       "      <td>10.503090</td>\n",
       "      <td>22.528412</td>\n",
       "      <td>4.022866</td>\n",
       "      <td>6.070850</td>\n",
       "      <td>3.463246</td>\n",
       "      <td>12.152401</td>\n",
       "      <td>33.847808</td>\n",
       "      <td>19656.530000</td>\n",
       "      <td>1.000000</td>\n",
       "    </tr>\n",
       "  </tbody>\n",
       "</table>\n",
       "<p>8 rows × 31 columns</p>\n",
       "</div>"
      ],
      "text/plain": [
       "                Time             V1             V2             V3  \\\n",
       "count  227845.000000  227845.000000  227845.000000  227845.000000   \n",
       "mean    94752.853076      -0.003321      -0.001652       0.001066   \n",
       "std     47500.410602       1.963028       1.661178       1.516107   \n",
       "min         0.000000     -56.407510     -72.715728     -32.965346   \n",
       "25%     54182.000000      -0.922851      -0.598040      -0.889246   \n",
       "50%     84607.000000       0.012663       0.066665       0.182170   \n",
       "75%    139340.000000       1.314821       0.804401       1.029449   \n",
       "max    172792.000000       2.454930      22.057729       9.382558   \n",
       "\n",
       "                  V4             V5             V6             V7  \\\n",
       "count  227845.000000  227845.000000  227845.000000  227845.000000   \n",
       "mean       -0.000374       0.000877       0.000770      -0.000035   \n",
       "std         1.415061       1.367074       1.325341       1.220384   \n",
       "min        -5.683171     -42.147898     -26.160506     -43.557242   \n",
       "25%        -0.848884      -0.690811      -0.767803      -0.554761   \n",
       "50%        -0.019309      -0.055243      -0.273025       0.040409   \n",
       "75%         0.744822       0.610852       0.400298       0.570631   \n",
       "max        16.875344      34.801666      22.529298      36.877368   \n",
       "\n",
       "                  V8             V9  ...            V21            V22  \\\n",
       "count  227845.000000  227845.000000  ...  227845.000000  227845.000000   \n",
       "mean        0.001625      -0.000391  ...       0.000563       0.001234   \n",
       "std         1.192648       1.097367  ...       0.734187       0.724544   \n",
       "min       -73.216718     -13.434066  ...     -34.830382     -10.933144   \n",
       "25%        -0.207838      -0.643365  ...      -0.228031      -0.540792   \n",
       "50%         0.022928      -0.050932  ...      -0.028807       0.008697   \n",
       "75%         0.327854       0.596671  ...       0.186852       0.529535   \n",
       "max        20.007208      15.594995  ...      27.202839      10.503090   \n",
       "\n",
       "                 V23            V24            V25            V26  \\\n",
       "count  227845.000000  227845.000000  227845.000000  227845.000000   \n",
       "mean       -0.001002       0.000254       0.000218      -0.001128   \n",
       "std         0.625165       0.606012       0.521348       0.482314   \n",
       "min       -44.807735      -2.836627     -10.295397      -2.604551   \n",
       "25%        -0.162264      -0.354099      -0.317450      -0.327910   \n",
       "50%        -0.011614       0.041212       0.016221      -0.053257   \n",
       "75%         0.147067       0.440051       0.351214       0.239885   \n",
       "max        22.528412       4.022866       6.070850       3.463246   \n",
       "\n",
       "                 V27            V28         Amount          Class  \n",
       "count  227845.000000  227845.000000  227845.000000  227845.000000  \n",
       "mean       -0.000346       0.000498      88.522327       0.001729  \n",
       "std         0.400286       0.331184     248.100141       0.041548  \n",
       "min       -22.565679     -11.710896       0.000000       0.000000  \n",
       "25%        -0.070986      -0.053117       5.590000       0.000000  \n",
       "50%         0.001315       0.011216      22.000000       0.000000  \n",
       "75%         0.091105       0.078458      77.070000       0.000000  \n",
       "max        12.152401      33.847808   19656.530000       1.000000  \n",
       "\n",
       "[8 rows x 31 columns]"
      ]
     },
     "execution_count": 10,
     "metadata": {},
     "output_type": "execute_result"
    }
   ],
   "source": [
    "train_data.describe()"
   ]
  },
  {
   "cell_type": "code",
   "execution_count": 11,
   "id": "d7daaa7e",
   "metadata": {},
   "outputs": [
    {
     "data": {
      "text/html": [
       "<div>\n",
       "<style scoped>\n",
       "    .dataframe tbody tr th:only-of-type {\n",
       "        vertical-align: middle;\n",
       "    }\n",
       "\n",
       "    .dataframe tbody tr th {\n",
       "        vertical-align: top;\n",
       "    }\n",
       "\n",
       "    .dataframe thead th {\n",
       "        text-align: right;\n",
       "    }\n",
       "</style>\n",
       "<table border=\"1\" class=\"dataframe\">\n",
       "  <thead>\n",
       "    <tr style=\"text-align: right;\">\n",
       "      <th></th>\n",
       "      <th>Time</th>\n",
       "      <th>V1</th>\n",
       "      <th>V2</th>\n",
       "      <th>V3</th>\n",
       "      <th>V4</th>\n",
       "      <th>V5</th>\n",
       "      <th>V6</th>\n",
       "      <th>V7</th>\n",
       "      <th>V8</th>\n",
       "      <th>V9</th>\n",
       "      <th>...</th>\n",
       "      <th>V21</th>\n",
       "      <th>V22</th>\n",
       "      <th>V23</th>\n",
       "      <th>V24</th>\n",
       "      <th>V25</th>\n",
       "      <th>V26</th>\n",
       "      <th>V27</th>\n",
       "      <th>V28</th>\n",
       "      <th>Amount</th>\n",
       "      <th>Class</th>\n",
       "    </tr>\n",
       "  </thead>\n",
       "  <tbody>\n",
       "    <tr>\n",
       "      <th>count</th>\n",
       "      <td>568.000000</td>\n",
       "      <td>568.000000</td>\n",
       "      <td>568.000000</td>\n",
       "      <td>568.000000</td>\n",
       "      <td>568.000000</td>\n",
       "      <td>568.000000</td>\n",
       "      <td>568.000000</td>\n",
       "      <td>568.000000</td>\n",
       "      <td>568.000000</td>\n",
       "      <td>568.000000</td>\n",
       "      <td>...</td>\n",
       "      <td>568.000000</td>\n",
       "      <td>568.000000</td>\n",
       "      <td>568.000000</td>\n",
       "      <td>568.000000</td>\n",
       "      <td>568.000000</td>\n",
       "      <td>568.000000</td>\n",
       "      <td>568.000000</td>\n",
       "      <td>568.000000</td>\n",
       "      <td>568.000000</td>\n",
       "      <td>568.000000</td>\n",
       "    </tr>\n",
       "    <tr>\n",
       "      <th>mean</th>\n",
       "      <td>103633.991197</td>\n",
       "      <td>-1.460647</td>\n",
       "      <td>1.089823</td>\n",
       "      <td>0.230035</td>\n",
       "      <td>1.157144</td>\n",
       "      <td>-0.116498</td>\n",
       "      <td>0.852991</td>\n",
       "      <td>-0.132568</td>\n",
       "      <td>0.308854</td>\n",
       "      <td>0.506862</td>\n",
       "      <td>...</td>\n",
       "      <td>-0.020706</td>\n",
       "      <td>0.158084</td>\n",
       "      <td>-0.122654</td>\n",
       "      <td>-0.189113</td>\n",
       "      <td>0.005826</td>\n",
       "      <td>0.037676</td>\n",
       "      <td>-0.556357</td>\n",
       "      <td>-0.329362</td>\n",
       "      <td>54.691285</td>\n",
       "      <td>0.010563</td>\n",
       "    </tr>\n",
       "    <tr>\n",
       "      <th>std</th>\n",
       "      <td>52849.949184</td>\n",
       "      <td>2.851421</td>\n",
       "      <td>1.736704</td>\n",
       "      <td>2.365843</td>\n",
       "      <td>1.744070</td>\n",
       "      <td>1.783110</td>\n",
       "      <td>1.688885</td>\n",
       "      <td>1.763746</td>\n",
       "      <td>1.850051</td>\n",
       "      <td>1.840603</td>\n",
       "      <td>...</td>\n",
       "      <td>0.929156</td>\n",
       "      <td>0.730013</td>\n",
       "      <td>0.426054</td>\n",
       "      <td>0.640290</td>\n",
       "      <td>0.498460</td>\n",
       "      <td>0.515352</td>\n",
       "      <td>1.407618</td>\n",
       "      <td>0.828154</td>\n",
       "      <td>155.849473</td>\n",
       "      <td>0.102324</td>\n",
       "    </tr>\n",
       "    <tr>\n",
       "      <th>min</th>\n",
       "      <td>26.000000</td>\n",
       "      <td>-13.668193</td>\n",
       "      <td>-7.592141</td>\n",
       "      <td>-18.256576</td>\n",
       "      <td>-2.483895</td>\n",
       "      <td>-11.731476</td>\n",
       "      <td>-4.192171</td>\n",
       "      <td>-14.873658</td>\n",
       "      <td>-10.648802</td>\n",
       "      <td>-5.418204</td>\n",
       "      <td>...</td>\n",
       "      <td>-4.733761</td>\n",
       "      <td>-2.858266</td>\n",
       "      <td>-3.887507</td>\n",
       "      <td>-1.712506</td>\n",
       "      <td>-2.888726</td>\n",
       "      <td>-1.408127</td>\n",
       "      <td>-8.878665</td>\n",
       "      <td>-3.707261</td>\n",
       "      <td>0.000000</td>\n",
       "      <td>0.000000</td>\n",
       "    </tr>\n",
       "    <tr>\n",
       "      <th>25%</th>\n",
       "      <td>60456.500000</td>\n",
       "      <td>-2.215256</td>\n",
       "      <td>-0.062249</td>\n",
       "      <td>-0.618814</td>\n",
       "      <td>-0.109500</td>\n",
       "      <td>-0.947268</td>\n",
       "      <td>-0.383949</td>\n",
       "      <td>-0.759842</td>\n",
       "      <td>-0.156001</td>\n",
       "      <td>-0.174505</td>\n",
       "      <td>...</td>\n",
       "      <td>-0.366727</td>\n",
       "      <td>-0.314081</td>\n",
       "      <td>-0.355170</td>\n",
       "      <td>-0.869790</td>\n",
       "      <td>-0.136412</td>\n",
       "      <td>-0.331759</td>\n",
       "      <td>-0.368796</td>\n",
       "      <td>-0.754864</td>\n",
       "      <td>3.172500</td>\n",
       "      <td>0.000000</td>\n",
       "    </tr>\n",
       "    <tr>\n",
       "      <th>50%</th>\n",
       "      <td>117422.000000</td>\n",
       "      <td>-1.196037</td>\n",
       "      <td>1.450535</td>\n",
       "      <td>0.412281</td>\n",
       "      <td>0.976166</td>\n",
       "      <td>-0.012361</td>\n",
       "      <td>0.391201</td>\n",
       "      <td>-0.031502</td>\n",
       "      <td>0.149192</td>\n",
       "      <td>0.124136</td>\n",
       "      <td>...</td>\n",
       "      <td>-0.055985</td>\n",
       "      <td>0.385227</td>\n",
       "      <td>-0.130169</td>\n",
       "      <td>-0.018653</td>\n",
       "      <td>-0.022087</td>\n",
       "      <td>0.140652</td>\n",
       "      <td>-0.040925</td>\n",
       "      <td>-0.044741</td>\n",
       "      <td>9.030000</td>\n",
       "      <td>0.000000</td>\n",
       "    </tr>\n",
       "    <tr>\n",
       "      <th>75%</th>\n",
       "      <td>159104.250000</td>\n",
       "      <td>0.997959</td>\n",
       "      <td>1.735034</td>\n",
       "      <td>1.690027</td>\n",
       "      <td>2.831287</td>\n",
       "      <td>1.413376</td>\n",
       "      <td>1.663200</td>\n",
       "      <td>0.585362</td>\n",
       "      <td>1.062872</td>\n",
       "      <td>0.694326</td>\n",
       "      <td>...</td>\n",
       "      <td>0.212517</td>\n",
       "      <td>0.567241</td>\n",
       "      <td>0.088524</td>\n",
       "      <td>0.386205</td>\n",
       "      <td>0.230429</td>\n",
       "      <td>0.327804</td>\n",
       "      <td>0.021194</td>\n",
       "      <td>0.070181</td>\n",
       "      <td>27.437500</td>\n",
       "      <td>0.000000</td>\n",
       "    </tr>\n",
       "    <tr>\n",
       "      <th>max</th>\n",
       "      <td>171627.000000</td>\n",
       "      <td>2.154480</td>\n",
       "      <td>9.666883</td>\n",
       "      <td>3.006347</td>\n",
       "      <td>10.648505</td>\n",
       "      <td>4.491831</td>\n",
       "      <td>4.648683</td>\n",
       "      <td>8.300058</td>\n",
       "      <td>9.673941</td>\n",
       "      <td>7.938980</td>\n",
       "      <td>...</td>\n",
       "      <td>7.252584</td>\n",
       "      <td>2.900250</td>\n",
       "      <td>1.584811</td>\n",
       "      <td>1.182948</td>\n",
       "      <td>1.644299</td>\n",
       "      <td>1.833597</td>\n",
       "      <td>2.340472</td>\n",
       "      <td>2.285113</td>\n",
       "      <td>1697.310000</td>\n",
       "      <td>1.000000</td>\n",
       "    </tr>\n",
       "  </tbody>\n",
       "</table>\n",
       "<p>8 rows × 31 columns</p>\n",
       "</div>"
      ],
      "text/plain": [
       "                Time          V1          V2          V3          V4  \\\n",
       "count     568.000000  568.000000  568.000000  568.000000  568.000000   \n",
       "mean   103633.991197   -1.460647    1.089823    0.230035    1.157144   \n",
       "std     52849.949184    2.851421    1.736704    2.365843    1.744070   \n",
       "min        26.000000  -13.668193   -7.592141  -18.256576   -2.483895   \n",
       "25%     60456.500000   -2.215256   -0.062249   -0.618814   -0.109500   \n",
       "50%    117422.000000   -1.196037    1.450535    0.412281    0.976166   \n",
       "75%    159104.250000    0.997959    1.735034    1.690027    2.831287   \n",
       "max    171627.000000    2.154480    9.666883    3.006347   10.648505   \n",
       "\n",
       "               V5          V6          V7          V8          V9  ...  \\\n",
       "count  568.000000  568.000000  568.000000  568.000000  568.000000  ...   \n",
       "mean    -0.116498    0.852991   -0.132568    0.308854    0.506862  ...   \n",
       "std      1.783110    1.688885    1.763746    1.850051    1.840603  ...   \n",
       "min    -11.731476   -4.192171  -14.873658  -10.648802   -5.418204  ...   \n",
       "25%     -0.947268   -0.383949   -0.759842   -0.156001   -0.174505  ...   \n",
       "50%     -0.012361    0.391201   -0.031502    0.149192    0.124136  ...   \n",
       "75%      1.413376    1.663200    0.585362    1.062872    0.694326  ...   \n",
       "max      4.491831    4.648683    8.300058    9.673941    7.938980  ...   \n",
       "\n",
       "              V21         V22         V23         V24         V25         V26  \\\n",
       "count  568.000000  568.000000  568.000000  568.000000  568.000000  568.000000   \n",
       "mean    -0.020706    0.158084   -0.122654   -0.189113    0.005826    0.037676   \n",
       "std      0.929156    0.730013    0.426054    0.640290    0.498460    0.515352   \n",
       "min     -4.733761   -2.858266   -3.887507   -1.712506   -2.888726   -1.408127   \n",
       "25%     -0.366727   -0.314081   -0.355170   -0.869790   -0.136412   -0.331759   \n",
       "50%     -0.055985    0.385227   -0.130169   -0.018653   -0.022087    0.140652   \n",
       "75%      0.212517    0.567241    0.088524    0.386205    0.230429    0.327804   \n",
       "max      7.252584    2.900250    1.584811    1.182948    1.644299    1.833597   \n",
       "\n",
       "              V27         V28       Amount       Class  \n",
       "count  568.000000  568.000000   568.000000  568.000000  \n",
       "mean    -0.556357   -0.329362    54.691285    0.010563  \n",
       "std      1.407618    0.828154   155.849473    0.102324  \n",
       "min     -8.878665   -3.707261     0.000000    0.000000  \n",
       "25%     -0.368796   -0.754864     3.172500    0.000000  \n",
       "50%     -0.040925   -0.044741     9.030000    0.000000  \n",
       "75%      0.021194    0.070181    27.437500    0.000000  \n",
       "max      2.340472    2.285113  1697.310000    1.000000  \n",
       "\n",
       "[8 rows x 31 columns]"
      ]
     },
     "execution_count": 11,
     "metadata": {},
     "output_type": "execute_result"
    }
   ],
   "source": [
    "test_data.describe()"
   ]
  },
  {
   "cell_type": "code",
   "execution_count": 12,
   "id": "f9b6afbf",
   "metadata": {},
   "outputs": [
    {
     "data": {
      "image/png": "[encoded data removed]",
      "text/plain": [
       "<Figure size 1080x864 with 29 Axes>"
      ]
     },
     "metadata": {
      "needs_background": "light"
     },
     "output_type": "display_data"
    }
   ],
   "source": [
    "#plot histogramm\n",
    "fig = plt.figure(figsize=(15, 12))\n",
    "\n",
    "# loop over all vars (total: 30)\n",
    "for i in range(1, train_data.shape[1]-1):\n",
    "    plt.subplot(6, 6, i)\n",
    "    f = plt.gca()\n",
    "    f.axes.get_yaxis().set_visible(False)\n",
    "    # f.axes.set_ylim([0, train.shape[0]])\n",
    "\n",
    "    vals = np.size(train_data.iloc[:, i].unique())\n",
    "    if vals < 10:\n",
    "        bins = vals\n",
    "    else:\n",
    "        vals = 10\n",
    "\n",
    "    plt.hist(train_data.iloc[:, i], bins=30, color='#3F5D7D')\n",
    "\n",
    "plt.tight_layout()"
   ]
  },
  {
   "cell_type": "code",
   "execution_count": 13,
   "id": "84be23d4",
   "metadata": {},
   "outputs": [
    {
     "data": {
      "text/plain": [
       "Time      0\n",
       "V1        0\n",
       "V2        0\n",
       "V3        0\n",
       "V4        0\n",
       "V5        0\n",
       "V6        0\n",
       "V7        0\n",
       "V8        0\n",
       "V9        0\n",
       "V10       0\n",
       "V11       0\n",
       "V12       0\n",
       "V13       0\n",
       "V14       0\n",
       "V15       0\n",
       "V16       0\n",
       "V17       0\n",
       "V18       0\n",
       "V19       0\n",
       "V20       0\n",
       "V21       0\n",
       "V22       0\n",
       "V23       0\n",
       "V24       0\n",
       "V25       0\n",
       "V26       0\n",
       "V27       0\n",
       "V28       0\n",
       "Amount    0\n",
       "Class     0\n",
       "dtype: int64"
      ]
     },
     "execution_count": 13,
     "metadata": {},
     "output_type": "execute_result"
    }
   ],
   "source": [
    "train_data.isnull().sum()"
   ]
  },
  {
   "cell_type": "code",
   "execution_count": 14,
   "id": "52838438",
   "metadata": {},
   "outputs": [
    {
     "data": {
      "text/plain": [
       "Time      0\n",
       "V1        0\n",
       "V2        0\n",
       "V3        0\n",
       "V4        0\n",
       "V5        0\n",
       "V6        0\n",
       "V7        0\n",
       "V8        0\n",
       "V9        0\n",
       "V10       0\n",
       "V11       0\n",
       "V12       0\n",
       "V13       0\n",
       "V14       0\n",
       "V15       0\n",
       "V16       0\n",
       "V17       0\n",
       "V18       0\n",
       "V19       0\n",
       "V20       0\n",
       "V21       0\n",
       "V22       0\n",
       "V23       0\n",
       "V24       0\n",
       "V25       0\n",
       "V26       0\n",
       "V27       0\n",
       "V28       0\n",
       "Amount    0\n",
       "Class     0\n",
       "dtype: int64"
      ]
     },
     "execution_count": 14,
     "metadata": {},
     "output_type": "execute_result"
    }
   ],
   "source": [
    "test_data.isnull().sum()"
   ]
  },
  {
   "cell_type": "code",
   "execution_count": 15,
   "id": "ee96ed9e",
   "metadata": {},
   "outputs": [
    {
     "data": {
      "image/png": "[encoded data removed]",
      "text/plain": [
       "<Figure size 720x864 with 1 Axes>"
      ]
     },
     "metadata": {
      "needs_background": "light"
     },
     "output_type": "display_data"
    },
    {
     "data": {
      "image/png": "[encoded data removed]",
      "text/plain": [
       "<Figure size 720x864 with 1 Axes>"
      ]
     },
     "metadata": {
      "needs_background": "light"
     },
     "output_type": "display_data"
    },
    {
     "data": {
      "image/png": "[encoded data removed]",
      "text/plain": [
       "<Figure size 720x864 with 1 Axes>"
      ]
     },
     "metadata": {
      "needs_background": "light"
     },
     "output_type": "display_data"
    },
    {
     "data": {
      "image/png": "[encoded data removed]",
      "text/plain": [
       "<Figure size 720x864 with 1 Axes>"
      ]
     },
     "metadata": {
      "needs_background": "light"
     },
     "output_type": "display_data"
    },
    {
     "data": {
      "image/png": "[encoded data removed]",
      "text/plain": [
       "<Figure size 720x864 with 1 Axes>"
      ]
     },
     "metadata": {
      "needs_background": "light"
     },
     "output_type": "display_data"
    },
    {
     "data": {
      "image/png": "[encoded data removed]",
      "text/plain": [
       "<Figure size 720x864 with 1 Axes>"
      ]
     },
     "metadata": {
      "needs_background": "light"
     },
     "output_type": "display_data"
    },
    {
     "data": {
      "image/png": "[encoded data removed]",
      "text/plain": [
       "<Figure size 720x864 with 1 Axes>"
      ]
     },
     "metadata": {
      "needs_background": "light"
     },
     "output_type": "display_data"
    },
    {
     "data": {
      "image/png": "[encoded data removed]",
      "text/plain": [
       "<Figure size 720x864 with 1 Axes>"
      ]
     },
     "metadata": {
      "needs_background": "light"
     },
     "output_type": "display_data"
    },
    {
     "data": {
      "image/png": "[encoded data removed]",
      "text/plain": [
       "<Figure size 720x864 with 1 Axes>"
      ]
     },
     "metadata": {
      "needs_background": "light"
     },
     "output_type": "display_data"
    },
    {
     "data": {
      "image/png": "[encoded data removed]",
      "text/plain": [
       "<Figure size 720x864 with 1 Axes>"
      ]
     },
     "metadata": {
      "needs_background": "light"
     },
     "output_type": "display_data"
    },
    {
     "data": {
      "image/png": "[encoded data removed]",
      "text/plain": [
       "<Figure size 720x864 with 1 Axes>"
      ]
     },
     "metadata": {
      "needs_background": "light"
     },
     "output_type": "display_data"
    },
    {
     "data": {
      "image/png": "[encoded data removed]",
      "text/plain": [
       "<Figure size 720x864 with 1 Axes>"
      ]
     },
     "metadata": {
      "needs_background": "light"
     },
     "output_type": "display_data"
    },
    {
     "data": {
      "image/png": "[encoded data removed]",
      "text/plain": [
       "<Figure size 720x864 with 1 Axes>"
      ]
     },
     "metadata": {
      "needs_background": "light"
     },
     "output_type": "display_data"
    },
    {
     "data": {
      "image/png": "[encoded data removed]",
      "text/plain": [
       "<Figure size 720x864 with 1 Axes>"
      ]
     },
     "metadata": {
      "needs_background": "light"
     },
     "output_type": "display_data"
    },
    {
     "data": {
      "image/png": "[encoded data removed]",
      "text/plain": [
       "<Figure size 720x864 with 1 Axes>"
      ]
     },
     "metadata": {
      "needs_background": "light"
     },
     "output_type": "display_data"
    },
    {
     "data": {
      "image/png": "[encoded data removed]",
      "text/plain": [
       "<Figure size 720x864 with 1 Axes>"
      ]
     },
     "metadata": {
      "needs_background": "light"
     },
     "output_type": "display_data"
    },
    {
     "data": {
      "image/png": "[encoded data removed]",
      "text/plain": [
       "<Figure size 720x864 with 1 Axes>"
      ]
     },
     "metadata": {
      "needs_background": "light"
     },
     "output_type": "display_data"
    },
    {
     "data": {
      "image/png": "[encoded data removed]",
      "text/plain": [
       "<Figure size 720x864 with 1 Axes>"
      ]
     },
     "metadata": {
      "needs_background": "light"
     },
     "output_type": "display_data"
    },
    {
     "data": {
      "image/png": "[encoded data removed]",
      "text/plain": [
       "<Figure size 720x864 with 1 Axes>"
      ]
     },
     "metadata": {
      "needs_background": "light"
     },
     "output_type": "display_data"
    },
    {
     "data": {
      "image/png": "[encoded data removed]",
      "text/plain": [
       "<Figure size 720x864 with 1 Axes>"
      ]
     },
     "metadata": {
      "needs_background": "light"
     },
     "output_type": "display_data"
    },
    {
     "data": {
      "image/png": "[encoded data removed]",
      "text/plain": [
       "<Figure size 720x864 with 1 Axes>"
      ]
     },
     "metadata": {
      "needs_background": "light"
     },
     "output_type": "display_data"
    },
    {
     "data": {
      "image/png": "[encoded data removed]",
      "text/plain": [
       "<Figure size 720x864 with 1 Axes>"
      ]
     },
     "metadata": {
      "needs_background": "light"
     },
     "output_type": "display_data"
    },
    {
     "data": {
      "image/png": "[encoded data removed]",
      "text/plain": [
       "<Figure size 720x864 with 1 Axes>"
      ]
     },
     "metadata": {
      "needs_background": "light"
     },
     "output_type": "display_data"
    },
    {
     "data": {
      "image/png": "[encoded data removed]",
      "text/plain": [
       "<Figure size 720x864 with 1 Axes>"
      ]
     },
     "metadata": {
      "needs_background": "light"
     },
     "output_type": "display_data"
    },
    {
     "data": {
      "image/png": "[encoded data removed]",
      "text/plain": [
       "<Figure size 720x864 with 1 Axes>"
      ]
     },
     "metadata": {
      "needs_background": "light"
     },
     "output_type": "display_data"
    },
    {
     "data": {
      "image/png": "[encoded data removed]",
      "text/plain": [
       "<Figure size 720x864 with 1 Axes>"
      ]
     },
     "metadata": {
      "needs_background": "light"
     },
     "output_type": "display_data"
    },
    {
     "data": {
      "image/png": "[encoded data removed]",
      "text/plain": [
       "<Figure size 720x864 with 1 Axes>"
      ]
     },
     "metadata": {
      "needs_background": "light"
     },
     "output_type": "display_data"
    },
    {
     "data": {
      "image/png": "[encoded data removed]",
      "text/plain": [
       "<Figure size 720x864 with 1 Axes>"
      ]
     },
     "metadata": {
      "needs_background": "light"
     },
     "output_type": "display_data"
    },
    {
     "data": {
      "image/png": "[encoded data removed]",
      "text/plain": [
       "<Figure size 720x864 with 1 Axes>"
      ]
     },
     "metadata": {
      "needs_background": "light"
     },
     "output_type": "display_data"
    },
    {
     "data": {
      "image/png": "[encoded data removed]",
      "text/plain": [
       "<Figure size 720x864 with 1 Axes>"
      ]
     },
     "metadata": {
      "needs_background": "light"
     },
     "output_type": "display_data"
    },
    {
     "data": {
      "image/png": "[encoded data removed]",
      "text/plain": [
       "<Figure size 720x864 with 1 Axes>"
      ]
     },
     "metadata": {
      "needs_background": "light"
     },
     "output_type": "display_data"
    }
   ],
   "source": [
    "# outlier traitment\n",
    "for column in train_data:\n",
    "    plt.figure(figsize = (10,12))\n",
    "    train_data.boxplot([column])"
   ]
  },
  {
   "cell_type": "markdown",
   "id": "899473f8",
   "metadata": {},
   "source": [
    "# •\tFind if there is any connection between Time, Amount, and the transaction being fraudulent"
   ]
  },
  {
   "cell_type": "code",
   "execution_count": 16,
   "id": "02f6f9be",
   "metadata": {},
   "outputs": [
    {
     "data": {
      "text/plain": [
       "[Text(0, 0, 'Normal'), Text(1, 0, 'Fraudulent')]"
      ]
     },
     "execution_count": 16,
     "metadata": {},
     "output_type": "execute_result"
    },
    {
     "data": {
      "image/png": "[encoded data removed]",
      "text/plain": [
       "<Figure size 432x288 with 1 Axes>"
      ]
     },
     "metadata": {
      "needs_background": "light"
     },
     "output_type": "display_data"
    }
   ],
   "source": [
    "#visualising transactions\n",
    "ax = train_data.groupby('Class').size().transform(lambda x: (x/sum(x)*100)).plot.bar()\n",
    "for a in ax.patches:\n",
    "    ax.text(a.get_x()+.06,a.get_height()+.5,\\\n",
    "           str('{}%'.format(round(a.get_height(),3))),fontsize=24,\n",
    "              color='black')\n",
    "old = [0,1]\n",
    "new = ['Normal','Fraudulent']\n",
    "ax.set_xticks(old)\n",
    "ax.set_xticklabels(new,rotation=0,fontsize=28)"
   ]
  },
  {
   "cell_type": "code",
   "execution_count": 17,
   "id": "0488dddc",
   "metadata": {},
   "outputs": [
    {
     "data": {
      "image/png": "[encoded data removed]",
      "text/plain": [
       "<Figure size 432x288 with 1 Axes>"
      ]
     },
     "metadata": {
      "needs_background": "light"
     },
     "output_type": "display_data"
    }
   ],
   "source": [
    "#Visualising Volume of transactions by time\n",
    "plt.plot( 'Time', 'Amount', data=train_data, marker='o', color='blue',\n",
    "                  linewidth=2, linestyle='dashed')\n",
    "plt.xlabel('Seconds since first transaction')\n",
    "plt.ylabel('Size of transaction')\n",
    "plt.rcParams[\"figure.figsize\"] = (30,20)\n",
    "plt.rcParams[\"font.size\"] = \"20\""
   ]
  },
  {
   "cell_type": "code",
   "execution_count": 18,
   "id": "ea8bd8e2",
   "metadata": {},
   "outputs": [
    {
     "data": {
      "image/png": "[encoded data removed]",
      "text/plain": [
       "<Figure size 540x252 with 1 Axes>"
      ]
     },
     "metadata": {
      "needs_background": "light"
     },
     "output_type": "display_data"
    }
   ],
   "source": [
    "#heat map relation between time,amount n fraudulent activity\n",
    "plt.rcParams[\"figure.figsize\"] = [7.50, 3.50]\n",
    "plt.rcParams[\"figure.autolayout\"] = True\n",
    "\n",
    "train = pd.DataFrame(np.random.random((3, 3)), columns=[\"Time\", \"Amount\", \"class\"])\n",
    "\n",
    "sns.heatmap(train, cbar=False)\n",
    "\n",
    "plt.show()"
   ]
  },
  {
   "cell_type": "markdown",
   "id": "990ccee7",
   "metadata": {},
   "source": [
    "# 2.\tCheck the class count for each class. It’s a class Imbalance problem2.\tCheck the class count for each class. It’s a class Imbalance problem"
   ]
  },
  {
   "cell_type": "code",
   "execution_count": 19,
   "id": "fb534727",
   "metadata": {},
   "outputs": [
    {
     "data": {
      "text/plain": [
       "array([0, 1], dtype=int64)"
      ]
     },
     "execution_count": 19,
     "metadata": {},
     "output_type": "execute_result"
    }
   ],
   "source": [
    "train_data['Class'].unique()"
   ]
  },
  {
   "cell_type": "code",
   "execution_count": 20,
   "id": "714cb90b",
   "metadata": {},
   "outputs": [
    {
     "data": {
      "text/plain": [
       "0    227451\n",
       "1       394\n",
       "Name: Class, dtype: int64"
      ]
     },
     "execution_count": 20,
     "metadata": {},
     "output_type": "execute_result"
    }
   ],
   "source": [
    "train_data['Class'].value_counts()"
   ]
  },
  {
   "cell_type": "code",
   "execution_count": 21,
   "id": "c1121ba9",
   "metadata": {},
   "outputs": [
    {
     "data": {
      "text/plain": [
       "<AxesSubplot:xlabel='Class', ylabel='count'>"
      ]
     },
     "execution_count": 21,
     "metadata": {},
     "output_type": "execute_result"
    },
    {
     "data": {
      "image/png": "[encoded data removed]",
      "text/plain": [
       "<Figure size 540x252 with 1 Axes>"
      ]
     },
     "metadata": {
      "needs_background": "light"
     },
     "output_type": "display_data"
    }
   ],
   "source": [
    "import seaborn as sns\n",
    "sns.countplot(x='Class', data=train_data)"
   ]
  },
  {
   "cell_type": "code",
   "execution_count": 22,
   "id": "8d0e757e",
   "metadata": {},
   "outputs": [],
   "source": [
    "x_train = train_data.drop('Class', axis = 1)\n",
    "x_test = test_data.drop('Class', axis=1)\n",
    "y_train = train_data['Class']\n",
    "y_test = test_data['Class']"
   ]
  },
  {
   "cell_type": "code",
   "execution_count": 23,
   "id": "a56af097",
   "metadata": {},
   "outputs": [
    {
     "name": "stdout",
     "output_type": "stream",
     "text": [
      "(227845, 30)\n",
      "(227845,)\n"
     ]
    }
   ],
   "source": [
    "print(x_train.shape)\n",
    "print(y_train.shape)"
   ]
  },
  {
   "cell_type": "markdown",
   "id": "a4832f1b",
   "metadata": {},
   "source": [
    "# 3.\tUse techniques like undersampling or oversampling before running Naïve Bayes, Logistic Regression or SVM.\n",
    "•\tOversampling or undersampling can be used to tackle the class imbalance problem\n",
    "•\tOversampling increases the prior probability of imbalanced class and in case of other classifiers, error gets multiplied as the low-proportionate class is mimicked multiple times\n"
   ]
  },
  {
   "cell_type": "markdown",
   "id": "ae0c545c",
   "metadata": {},
   "source": [
    "# 4.\tFollowing are the matrices for evaluating the model performance: Precision, Recall, F1-Score, AUC-ROC curve. Use F1-Score as the evaluation criteria for this project."
   ]
  },
  {
   "cell_type": "code",
   "execution_count": 24,
   "id": "3a7bfc4e",
   "metadata": {},
   "outputs": [],
   "source": [
    "from imblearn.over_sampling import SMOTE\n",
    "from sklearn.model_selection import train_test_split\n",
    "sm = SMOTE(random_state=42)\n",
    "x_res, y_res = sm.fit_resample(x_train, y_train)\n",
    "x_train,x_test,y_train,y_test = train_test_split(x_res,y_res, test_size=.3,random_state=42)\n"
   ]
  },
  {
   "cell_type": "code",
   "execution_count": 27,
   "id": "cd78da78",
   "metadata": {},
   "outputs": [],
   "source": [
    "from sklearn.preprocessing import LabelBinarizer\n",
    "lb = LabelBinarizer() \n",
    "def show_metrics(true_vals,pred_vals):\n",
    "    print(pd.DataFrame(confusion_matrix(true_vals,pred_vals),columns=[\"0\",\"1\"],index=[\"0\",\"1\"]))\n",
    "    print(\"\\n\")\n",
    "    print(classification_report(true_vals,pred_vals))\n",
    "    "
   ]
  },
  {
   "cell_type": "code",
   "execution_count": 28,
   "id": "a925530a",
   "metadata": {},
   "outputs": [
    {
     "name": "stdout",
     "output_type": "stream",
     "text": [
      "Number of mislabeled points out of a total 136471 points : 17856\n",
      "       0      1\n",
      "0  67676    521\n",
      "1  17335  50939\n",
      "\n",
      "\n",
      "              precision    recall  f1-score   support\n",
      "\n",
      "           0       0.80      0.99      0.88     68197\n",
      "           1       0.99      0.75      0.85     68274\n",
      "\n",
      "    accuracy                           0.87    136471\n",
      "   macro avg       0.89      0.87      0.87    136471\n",
      "weighted avg       0.89      0.87      0.87    136471\n",
      "\n"
     ]
    }
   ],
   "source": [
    "# naive bayes\n",
    "\n",
    "from sklearn.metrics import confusion_matrix,classification_report,roc_curve, roc_auc_score, auc\n",
    "from sklearn.naive_bayes import GaussianNB\n",
    "gnb = GaussianNB()\n",
    "\n",
    "y_pred = gnb.fit(x_train, y_train).predict(x_test)\n",
    "print(\"Number of mislabeled points out of a total %d points : %d\"\n",
    "       % (x_test.shape[0], (y_test != y_pred).sum()))\n",
    "show_metrics(y_test,y_pred)"
   ]
  },
  {
   "cell_type": "code",
   "execution_count": 29,
   "id": "f5555524",
   "metadata": {},
   "outputs": [
    {
     "name": "stdout",
     "output_type": "stream",
     "text": [
      "AUC Score is:  0.9829900721520329\n"
     ]
    },
    {
     "data": {
      "text/plain": [
       "[<matplotlib.lines.Line2D at 0x1b907ee5be0>]"
      ]
     },
     "execution_count": 29,
     "metadata": {},
     "output_type": "execute_result"
    },
    {
     "data": {
      "image/png": "[encoded data removed]",
      "text/plain": [
       "<Figure size 432x288 with 1 Axes>"
      ]
     },
     "metadata": {
      "needs_background": "light"
     },
     "output_type": "display_data"
    }
   ],
   "source": [
    "#ROC\n",
    "\n",
    "from sklearn.metrics import roc_curve\n",
    "from sklearn.metrics import roc_auc_score\n",
    "import matplotlib.pyplot as plt\n",
    "%matplotlib inline\n",
    "\n",
    "#For plotting the curve we need the values of tpr and fpr which is calculated using \n",
    "#prob values for 1 predicted by model\n",
    "\n",
    "probabilityValues =  gnb.predict_proba(x_test)[:,1]\n",
    "\n",
    "#Calc AUC\n",
    "auc = roc_auc_score(y_test,probabilityValues)\n",
    "print('AUC Score is: ',auc)\n",
    "\n",
    "#Calc ROC Curve\n",
    "fpr,tpr,threshold = roc_curve(y_test,probabilityValues)\n",
    "\n",
    "#Plot Skill Line\n",
    "plt.plot([0,1],[0,1], linestyle = '--')\n",
    "\n",
    "#Plot ROC Curve\n",
    "plt.plot(fpr,tpr)"
   ]
  },
  {
   "cell_type": "code",
   "execution_count": 30,
   "id": "bbf302cf",
   "metadata": {},
   "outputs": [
    {
     "name": "stdout",
     "output_type": "stream",
     "text": [
      "0.9740760164682458\n",
      "Number of mislabeled points out of a total 136471 points : 3625\n",
      "       0      1\n",
      "0  66981   1216\n",
      "1   2409  65865\n",
      "\n",
      "\n",
      "              precision    recall  f1-score   support\n",
      "\n",
      "           0       0.97      0.98      0.97     68197\n",
      "           1       0.98      0.96      0.97     68274\n",
      "\n",
      "    accuracy                           0.97    136471\n",
      "   macro avg       0.97      0.97      0.97    136471\n",
      "weighted avg       0.97      0.97      0.97    136471\n",
      "\n"
     ]
    }
   ],
   "source": [
    "# logistic regression\n",
    "\n",
    "from sklearn.linear_model import LogisticRegression\n",
    "clf = LogisticRegression(random_state=0).fit(x_train, y_train)\n",
    "clf.predict(x_test)\n",
    "clf.predict_proba(x_test)\n",
    "print(clf.score(x_train, y_train))\n",
    "\n",
    "y_pred_1 = clf.fit(x_train, y_train).predict(x_test)\n",
    "print(\"Number of mislabeled points out of a total %d points : %d\"\n",
    "       % (x_test.shape[0], (y_test != y_pred_1).sum()))\n",
    "show_metrics(y_test,y_pred_1)"
   ]
  },
  {
   "cell_type": "code",
   "execution_count": 31,
   "id": "fac0e189",
   "metadata": {},
   "outputs": [
    {
     "name": "stdout",
     "output_type": "stream",
     "text": [
      "AUC Score is:  0.9957628926867662\n"
     ]
    },
    {
     "data": {
      "text/plain": [
       "[<matplotlib.lines.Line2D at 0x1b907f49850>]"
      ]
     },
     "execution_count": 31,
     "metadata": {},
     "output_type": "execute_result"
    },
    {
     "data": {
      "image/png": "[encoded data removed]",
      "text/plain": [
       "<Figure size 432x288 with 1 Axes>"
      ]
     },
     "metadata": {
      "needs_background": "light"
     },
     "output_type": "display_data"
    }
   ],
   "source": [
    "#ROC\n",
    "\n",
    "from sklearn.metrics import roc_curve\n",
    "from sklearn.metrics import roc_auc_score\n",
    "import matplotlib.pyplot as plt\n",
    "%matplotlib inline\n",
    "\n",
    "#For plotting the curve we need the values of tpr and fpr which is calculated using \n",
    "#prob values for 1 predicted by model\n",
    "\n",
    "probabilityValues =  clf.predict_proba(x_test)[:,1]\n",
    "\n",
    "#Calc AUC\n",
    "auc = roc_auc_score(y_test,probabilityValues)\n",
    "print('AUC Score is: ',auc)\n",
    "\n",
    "#Calc ROC Curve\n",
    "fpr,tpr,threshold = roc_curve(y_test,probabilityValues)\n",
    "\n",
    "#Plot Skill Line\n",
    "plt.plot([0,1],[0,1], linestyle = '--')\n",
    "\n",
    "#Plot ROC Curve\n",
    "plt.plot(fpr,tpr)"
   ]
  },
  {
   "cell_type": "code",
   "execution_count": 56,
   "id": "32234c1f",
   "metadata": {},
   "outputs": [
    {
     "name": "stdout",
     "output_type": "stream",
     "text": [
      "Number of mislabeled points out of a total 136471 points : 56774\n",
      "       0      1\n",
      "0  29492  38705\n",
      "1  18069  50205\n",
      "\n",
      "\n",
      "              precision    recall  f1-score   support\n",
      "\n",
      "           0       0.62      0.43      0.51     68197\n",
      "           1       0.56      0.74      0.64     68274\n",
      "\n",
      "    accuracy                           0.58    136471\n",
      "   macro avg       0.59      0.58      0.57    136471\n",
      "weighted avg       0.59      0.58      0.57    136471\n",
      "\n"
     ]
    }
   ],
   "source": [
    "#SVM\n",
    "\n",
    "from sklearn.svm import SVC\n",
    "svc=SVC()\n",
    "svc.fit(x_train,y_train)\n",
    "y_pred_2=svc.predict(x_test)\n",
    "print(\"Number of mislabeled points out of a total %d points : %d\"\n",
    "       % (x_test.shape[0], (y_test != y_pred_2).sum()))\n",
    "show_metrics(y_test,y_pred_2)\n",
    "\n"
   ]
  },
  {
   "cell_type": "code",
   "execution_count": null,
   "id": "7e8a44ae",
   "metadata": {},
   "outputs": [],
   "source": [
    "#ROC\n",
    "\n",
    "from sklearn.metrics import roc_curve\n",
    "from sklearn.metrics import roc_auc_score\n",
    "import matplotlib.pyplot as plt\n",
    "%matplotlib inline\n",
    "\n",
    "#For plotting the curve we need the values of tpr and fpr which is calculated using \n",
    "#prob values for 1 predicted by model\n",
    "\n",
    "probabilityValues =  svc.predict(x_test)[:,1]\n",
    "\n",
    "#Calc AUC\n",
    "auc = roc_auc_score(y_test,probabilityValues)\n",
    "print('AUC Score is: ',auc)\n",
    "\n",
    "#Calc ROC Curve\n",
    "fpr,tpr,threshold = roc_curve(y_test,probabilityValues)\n",
    "\n",
    "#Plot Skill Line\n",
    "plt.plot([0,1],[0,1], linestyle = '--')\n",
    "\n",
    "#Plot ROC Curve\n",
    "plt.plot(fpr,tpr)"
   ]
  },
  {
   "cell_type": "markdown",
   "id": "afedfdee",
   "metadata": {},
   "source": [
    "# best model"
   ]
  },
  {
   "cell_type": "markdown",
   "id": "67ac4a45",
   "metadata": {},
   "source": [
    "from the above observation , we can conclude that logistic regression is the best model "
   ]
  },
  {
   "cell_type": "markdown",
   "id": "3c61a12e",
   "metadata": {},
   "source": [
    "# Modeling Techniques:\n",
    "5.\tTry out models like Naive Bayes, Logistic Regression or SVM. Find out which one performs the best\n",
    "6.\tUse different Tree-based classifiers like Random Forest and XGBoost. \n",
    "•\tRemember Tree-based classifiers work on two ideologies: Bagging or Boosting\n",
    "•\tTree-based classifiers have fine-tuning parameters which takes care of the imbalanced class. Random-Forest and XGBboost\n"
   ]
  },
  {
   "cell_type": "code",
   "execution_count": 32,
   "id": "0137fc6b",
   "metadata": {},
   "outputs": [],
   "source": [
    "from sklearn.ensemble import RandomForestClassifier\n",
    "from xgboost import XGBClassifier\n",
    "from sklearn.metrics import accuracy_score,classification_report"
   ]
  },
  {
   "cell_type": "code",
   "execution_count": 33,
   "id": "68b6f18f",
   "metadata": {},
   "outputs": [
    {
     "name": "stdout",
     "output_type": "stream",
     "text": [
      "Number of mislabeled points out of a total 136471 points : 15\n",
      "       0      1\n",
      "0  68182     15\n",
      "1      0  68274\n",
      "\n",
      "\n",
      "              precision    recall  f1-score   support\n",
      "\n",
      "           0       1.00      1.00      1.00     68197\n",
      "           1       1.00      1.00      1.00     68274\n",
      "\n",
      "    accuracy                           1.00    136471\n",
      "   macro avg       1.00      1.00      1.00    136471\n",
      "weighted avg       1.00      1.00      1.00    136471\n",
      "\n"
     ]
    }
   ],
   "source": [
    "rfcl = RandomForestClassifier()\n",
    "rfcl.fit(x_train,y_train)\n",
    "y_rfcl = rfcl.predict(x_test)\n",
    "print(\"Number of mislabeled points out of a total %d points : %d\"\n",
    "       % (x_test.shape[0], (y_test != y_rfcl).sum()))\n",
    "show_metrics(y_test,y_rfcl)\n"
   ]
  },
  {
   "cell_type": "code",
   "execution_count": 55,
   "id": "fb593570",
   "metadata": {},
   "outputs": [
    {
     "name": "stdout",
     "output_type": "stream",
     "text": [
      "AUC Score is:  0.9998900244878808\n"
     ]
    },
    {
     "data": {
      "text/plain": [
       "[<matplotlib.lines.Line2D at 0x1b93ea02fa0>]"
      ]
     },
     "execution_count": 55,
     "metadata": {},
     "output_type": "execute_result"
    },
    {
     "data": {
      "image/png": "[encoded data removed]",
      "text/plain": [
       "<Figure size 432x288 with 1 Axes>"
      ]
     },
     "metadata": {
      "needs_background": "light"
     },
     "output_type": "display_data"
    }
   ],
   "source": [
    "#ROC\n",
    "\n",
    "from sklearn.metrics import roc_curve\n",
    "from sklearn.metrics import roc_auc_score\n",
    "import matplotlib.pyplot as plt\n",
    "%matplotlib inline\n",
    "\n",
    "#For plotting the curve we need the values of tpr and fpr which is calculated using \n",
    "#prob values for 1 predicted by model\n",
    "\n",
    "probabilityValues =  rfcl.predict(x_test)\n",
    "\n",
    "#Calc AUC\n",
    "auc = roc_auc_score(y_test,probabilityValues)\n",
    "print('AUC Score is: ',auc)\n",
    "\n",
    "#Calc ROC Curve\n",
    "fpr,tpr,threshold = roc_curve(y_test,probabilityValues)\n",
    "\n",
    "#Plot Skill Line\n",
    "plt.plot([0,1],[0,1], linestyle = '--')\n",
    "\n",
    "#Plot ROC Curve\n",
    "plt.plot(fpr,tpr)"
   ]
  },
  {
   "cell_type": "code",
   "execution_count": 35,
   "id": "8face428",
   "metadata": {},
   "outputs": [
    {
     "name": "stdout",
     "output_type": "stream",
     "text": [
      "Number of mislabeled points out of a total 136471 points : 21\n",
      "       0      1\n",
      "0  68176     21\n",
      "1      0  68274\n",
      "\n",
      "\n",
      "              precision    recall  f1-score   support\n",
      "\n",
      "           0       1.00      1.00      1.00     68197\n",
      "           1       1.00      1.00      1.00     68274\n",
      "\n",
      "    accuracy                           1.00    136471\n",
      "   macro avg       1.00      1.00      1.00    136471\n",
      "weighted avg       1.00      1.00      1.00    136471\n",
      "\n"
     ]
    }
   ],
   "source": [
    "xgbcl = XGBClassifier()\n",
    "xgbcl.fit(x_train,y_train)\n",
    "y_xgbcl = xgbcl.predict(x_test)\n",
    "print(\"Number of mislabeled points out of a total %d points : %d\"\n",
    "       % (x_test.shape[0], (y_test != y_xgbcl).sum()))\n",
    "show_metrics(y_test,y_xgbcl)"
   ]
  },
  {
   "cell_type": "code",
   "execution_count": 54,
   "id": "a5ee0765",
   "metadata": {},
   "outputs": [
    {
     "name": "stdout",
     "output_type": "stream",
     "text": [
      "AUC Score is:  0.999846034283033\n"
     ]
    },
    {
     "data": {
      "text/plain": [
       "[<matplotlib.lines.Line2D at 0x1b9395efeb0>]"
      ]
     },
     "execution_count": 54,
     "metadata": {},
     "output_type": "execute_result"
    },
    {
     "data": {
      "image/png": "[encoded data removed]",
      "text/plain": [
       "<Figure size 432x288 with 1 Axes>"
      ]
     },
     "metadata": {
      "needs_background": "light"
     },
     "output_type": "display_data"
    }
   ],
   "source": [
    "#ROC\n",
    "\n",
    "from sklearn.metrics import roc_curve\n",
    "from sklearn.metrics import roc_auc_score\n",
    "import matplotlib.pyplot as plt\n",
    "%matplotlib inline\n",
    "\n",
    "#For plotting the curve we need the values of tpr and fpr which is calculated using \n",
    "#prob values for 1 predicted by model\n",
    "\n",
    "probabilityValues =xgbcl.predict(x_test)\n",
    "\n",
    "#Calc AUC\n",
    "auc = roc_auc_score(y_test,probabilityValues)\n",
    "print('AUC Score is: ',auc)\n",
    "\n",
    "#Calc ROC Curve\n",
    "fpr,tpr,threshold = roc_curve(y_test,probabilityValues)\n",
    "\n",
    "#Plot Skill Line\n",
    "plt.plot([0,1],[0,1], linestyle = '--')\n",
    "\n",
    "#Plot ROC Curve\n",
    "plt.plot(fpr,tpr)"
   ]
  },
  {
   "cell_type": "markdown",
   "id": "ea6ba230",
   "metadata": {},
   "source": [
    "# 7.\tCompare the results of 1 with 2 and check if there is any incremental gain"
   ]
  },
  {
   "cell_type": "markdown",
   "id": "9393fc4f",
   "metadata": {},
   "source": [
    "# Project Task: Week 2\n",
    "Applying ANN:\n",
    "1.\tUse ANN (Artificial Neural Network) to predict Store Sales.\n",
    "•\tFine-tune number of layers\n",
    "•\tNumber of Neurons in each layers\n",
    "•\tExperiment in batch-size\n",
    "•\tExperiment with number of epochs. Check the observations in loss and accuracy\n",
    "•\tPlay with different Learning Rate variants of Gradient Descent like Adam, SGD, RMS-prop\n",
    "•\tFind out which activation performs best for this use case and why?\n",
    "•\tCalculate RMSE\n",
    "•\tCheck Confusion Matrix, Precision, Recall and F1-Score\n",
    "2.\tTry out Dropout for ANN. How is it performed? Compare model performance with the traditional ML based prediction models from above\n"
   ]
  },
  {
   "cell_type": "markdown",
   "id": "d111a70d",
   "metadata": {},
   "source": [
    "3.\tFind the best setting of neural net that can be best classified as fraudulent and non-fraudulent transactions. Use techniques like Grid Search, Cross-Validation and Random search."
   ]
  },
  {
   "cell_type": "code",
   "execution_count": 39,
   "id": "75770618",
   "metadata": {},
   "outputs": [],
   "source": [
    "# Create the function that returns the keras model\n",
    "from keras.models import Sequential\n",
    "from keras.layers import Dense,BatchNormalization\n",
    "from keras.regularizers import l2\n",
    "from keras.layers import Dropout\n",
    "def build_model(lambda_parameter):\n",
    "    model = Sequential()\n",
    "    model.add(Dense(30, input_dim=30, activation='relu', kernel_regularizer=l2(lambda_parameter)))\n",
    "    model.add(BatchNormalization())\n",
    "    model.add(Dense(100, activation='relu',kernel_regularizer=l2(lambda_parameter)))\n",
    "    model.add(Dropout(0.5))\n",
    "    model.add(BatchNormalization())\n",
    "    model.add(Dense(50, activation='relu',kernel_regularizer=l2(lambda_parameter)))\n",
    "    model.add(Dropout(0.3))\n",
    "    model.add(BatchNormalization())\n",
    "    model.add(Dense(1, activation='sigmoid'))\n",
    "    \n",
    "    print(lambda_parameter)\n",
    "    model.compile(loss='binary_crossentropy', optimizer='Adam', metrics=['accuracy'])\n",
    "    return model"
   ]
  },
  {
   "cell_type": "code",
   "execution_count": 40,
   "id": "8cf95050",
   "metadata": {},
   "outputs": [
    {
     "name": "stdout",
     "output_type": "stream",
     "text": [
      "0.001\n",
      "0.001\n",
      "0.001\n",
      "0.01\n",
      "0.01\n",
      "0.01\n",
      "10\n",
      "10\n",
      "10\n",
      "0.001\n",
      "0.001\n",
      "0.001\n",
      "0.01\n",
      "0.01\n",
      "0.01\n",
      "10\n",
      "10\n",
      "10\n",
      "0.001\n",
      "0.001\n",
      "0.001\n",
      "0.01\n",
      "0.01\n",
      "0.01\n",
      "10\n",
      "10\n",
      "10\n",
      "0.001\n",
      "0.001\n",
      "0.001\n",
      "0.01\n",
      "0.01\n",
      "0.01\n",
      "10\n",
      "10\n",
      "10\n",
      "0.001\n",
      "0.001\n",
      "0.001\n",
      "0.01\n",
      "0.01\n",
      "0.01\n",
      "10\n",
      "10\n",
      "10\n",
      "0.001\n",
      "0.001\n",
      "0.001\n",
      "0.01\n",
      "0.01\n",
      "0.01\n",
      "10\n",
      "10\n",
      "10\n",
      "0.001\n",
      "0.001\n",
      "0.001\n",
      "0.01\n",
      "0.01\n",
      "0.01\n",
      "10\n",
      "10\n",
      "10\n",
      "0.001\n",
      "0.001\n",
      "0.001\n",
      "0.01\n",
      "0.01\n",
      "0.01\n",
      "10\n",
      "10\n",
      "10\n",
      "0.001\n",
      "0.001\n",
      "0.001\n",
      "0.01\n",
      "0.01\n",
      "0.01\n",
      "10\n",
      "10\n",
      "10\n",
      "0.001\n"
     ]
    }
   ],
   "source": [
    "from keras.wrappers.scikit_learn import KerasClassifier\n",
    "from sklearn.model_selection import GridSearchCV\n",
    "# define a seed for random number generator so the result will be reproducible\n",
    "import numpy\n",
    "seed = 1\n",
    "numpy.random.seed(seed)\n",
    "\n",
    "# create the Keras wrapper with scikit learn\n",
    "model = KerasClassifier(build_fn=build_model, verbose=False)\n",
    "\n",
    "# define all the possible values for each hyperparameter\n",
    "lambda_parameter = [0.001, 0.01, 10]\n",
    "epochs = [5,10,20]\n",
    "batch_size = [100, 1000, 2000]\n",
    "\n",
    "# create the dictionary containing all possible values of hyperparameters\n",
    "param_grid = dict(lambda_parameter=lambda_parameter, epochs=epochs, batch_size=batch_size)\n",
    "\n",
    "# perform 5-fold cross validation and store the results\n",
    "grid_seach = GridSearchCV(estimator=model, param_grid=param_grid, cv=3)\n",
    "results = grid_seach.fit(x_train, y_train)"
   ]
  },
  {
   "cell_type": "code",
   "execution_count": 41,
   "id": "ff1efd3b",
   "metadata": {},
   "outputs": [
    {
     "name": "stdout",
     "output_type": "stream",
     "text": [
      "Best cross validation score = 0.7550616065661112\n",
      "Parameters for Best cross validation scor e= {'batch_size': 2000, 'epochs': 20, 'lambda_parameter': 0.001}\n",
      "Accuracy 0.611755 (std 0.149260) for params {'batch_size': 100, 'epochs': 5, 'lambda_parameter': 0.001}\n",
      "Accuracy 0.600535 (std 0.006796) for params {'batch_size': 100, 'epochs': 5, 'lambda_parameter': 0.01}\n",
      "Accuracy 0.499352 (std 0.000561) for params {'batch_size': 100, 'epochs': 5, 'lambda_parameter': 10}\n",
      "Accuracy 0.504499 (std 0.007155) for params {'batch_size': 100, 'epochs': 10, 'lambda_parameter': 0.001}\n",
      "Accuracy 0.570039 (std 0.050750) for params {'batch_size': 100, 'epochs': 10, 'lambda_parameter': 0.01}\n",
      "Accuracy 0.500714 (std 0.000474) for params {'batch_size': 100, 'epochs': 10, 'lambda_parameter': 10}\n",
      "Accuracy 0.526199 (std 0.028604) for params {'batch_size': 100, 'epochs': 20, 'lambda_parameter': 0.001}\n",
      "Accuracy 0.500718 (std 0.000475) for params {'batch_size': 100, 'epochs': 20, 'lambda_parameter': 0.01}\n",
      "Accuracy 0.499286 (std 0.000474) for params {'batch_size': 100, 'epochs': 20, 'lambda_parameter': 10}\n",
      "Accuracy 0.710920 (std 0.132879) for params {'batch_size': 1000, 'epochs': 5, 'lambda_parameter': 0.001}\n",
      "Accuracy 0.603609 (std 0.080885) for params {'batch_size': 1000, 'epochs': 5, 'lambda_parameter': 0.01}\n",
      "Accuracy 0.553995 (std 0.023959) for params {'batch_size': 1000, 'epochs': 5, 'lambda_parameter': 10}\n",
      "Accuracy 0.661160 (std 0.077777) for params {'batch_size': 1000, 'epochs': 10, 'lambda_parameter': 0.001}\n",
      "Accuracy 0.531647 (std 0.039812) for params {'batch_size': 1000, 'epochs': 10, 'lambda_parameter': 0.01}\n",
      "Accuracy 0.552961 (std 0.017936) for params {'batch_size': 1000, 'epochs': 10, 'lambda_parameter': 10}\n",
      "Accuracy 0.654157 (std 0.102463) for params {'batch_size': 1000, 'epochs': 20, 'lambda_parameter': 0.001}\n",
      "Accuracy 0.558206 (std 0.041178) for params {'batch_size': 1000, 'epochs': 20, 'lambda_parameter': 0.01}\n",
      "Accuracy 0.533396 (std 0.025237) for params {'batch_size': 1000, 'epochs': 20, 'lambda_parameter': 10}\n",
      "Accuracy 0.552236 (std 0.037614) for params {'batch_size': 2000, 'epochs': 5, 'lambda_parameter': 0.001}\n",
      "Accuracy 0.560834 (std 0.022686) for params {'batch_size': 2000, 'epochs': 5, 'lambda_parameter': 0.01}\n",
      "Accuracy 0.499879 (std 0.000849) for params {'batch_size': 2000, 'epochs': 5, 'lambda_parameter': 10}\n",
      "Accuracy 0.582695 (std 0.047316) for params {'batch_size': 2000, 'epochs': 10, 'lambda_parameter': 0.001}\n",
      "Accuracy 0.604841 (std 0.051264) for params {'batch_size': 2000, 'epochs': 10, 'lambda_parameter': 0.01}\n",
      "Accuracy 0.569332 (std 0.009856) for params {'batch_size': 2000, 'epochs': 10, 'lambda_parameter': 10}\n",
      "Accuracy 0.755062 (std 0.154931) for params {'batch_size': 2000, 'epochs': 20, 'lambda_parameter': 0.001}\n",
      "Accuracy 0.569163 (std 0.019411) for params {'batch_size': 2000, 'epochs': 20, 'lambda_parameter': 0.01}\n",
      "Accuracy 0.540431 (std 0.036162) for params {'batch_size': 2000, 'epochs': 20, 'lambda_parameter': 10}\n"
     ]
    }
   ],
   "source": [
    "# print the results for best cross validation score\n",
    "print(\"Best cross validation score =\", results.best_score_)\n",
    "print(\"Parameters for Best cross validation scor e=\", results.best_params_)\n",
    "\n",
    "# print the results for all evaluated hyperparameter combinations\n",
    "accuracy_means = results.cv_results_['mean_test_score']\n",
    "accuracy_stds = results.cv_results_['std_test_score']\n",
    "parameters = results.cv_results_['params']\n",
    "for p in range(len(parameters)):\n",
    "    print(\"Accuracy %f (std %f) for params %r\" % (accuracy_means[p], accuracy_stds[p], parameters[p]))"
   ]
  },
  {
   "cell_type": "code",
   "execution_count": 44,
   "id": "a3a7cdbd",
   "metadata": {},
   "outputs": [
    {
     "name": "stdout",
     "output_type": "stream",
     "text": [
      "Model: \"sequential_165\"\n",
      "_________________________________________________________________\n",
      " Layer (type)                Output Shape              Param #   \n",
      "=================================================================\n",
      " dense_413 (Dense)           (None, 30)                930       \n",
      "                                                                 \n",
      " batch_normalization_246 (Ba  (None, 30)               120       \n",
      " tchNormalization)                                               \n",
      "                                                                 \n",
      " dense_414 (Dense)           (None, 100)               3100      \n",
      "                                                                 \n",
      " dropout_166 (Dropout)       (None, 100)               0         \n",
      "                                                                 \n",
      " batch_normalization_247 (Ba  (None, 100)              400       \n",
      " tchNormalization)                                               \n",
      "                                                                 \n",
      " dense_415 (Dense)           (None, 50)                5050      \n",
      "                                                                 \n",
      " dropout_167 (Dropout)       (None, 50)                0         \n",
      "                                                                 \n",
      " batch_normalization_248 (Ba  (None, 50)               200       \n",
      " tchNormalization)                                               \n",
      "                                                                 \n",
      " dense_416 (Dense)           (None, 1)                 51        \n",
      "                                                                 \n",
      "=================================================================\n",
      "Total params: 9,851\n",
      "Trainable params: 9,491\n",
      "Non-trainable params: 360\n",
      "_________________________________________________________________\n"
     ]
    }
   ],
   "source": [
    "# best model\n",
    "model = Sequential()\n",
    "model.add(Dense(30, input_dim=30, activation='relu', kernel_regularizer=l2(0.001)))\n",
    "model.add(BatchNormalization())\n",
    "model.add(Dense(100, activation='relu',kernel_regularizer=l2(0.001)))\n",
    "model.add(Dropout(0.5))\n",
    "model.add(BatchNormalization())\n",
    "model.add(Dense(50, activation='relu',kernel_regularizer=l2(0.001)))\n",
    "model.add(Dropout(0.3))\n",
    "model.add(BatchNormalization())\n",
    "model.add(Dense(1, activation='sigmoid'))\n",
    "    \n",
    "model.compile(loss='binary_crossentropy', optimizer='adam', metrics=['accuracy'])\n",
    "model.summary()"
   ]
  },
  {
   "cell_type": "code",
   "execution_count": 47,
   "id": "00784706",
   "metadata": {},
   "outputs": [
    {
     "name": "stdout",
     "output_type": "stream",
     "text": [
      "Epoch 1/50\n",
      "128/128 [==============================] - 2s 13ms/step - loss: 0.0896 - accuracy: 0.9758 - val_loss: 2.4287 - val_accuracy: 0.5443\n",
      "Epoch 2/50\n",
      "128/128 [==============================] - 2s 13ms/step - loss: 0.0889 - accuracy: 0.9754 - val_loss: 2.5002 - val_accuracy: 0.8158\n",
      "Epoch 3/50\n",
      "128/128 [==============================] - 2s 12ms/step - loss: 0.1153 - accuracy: 0.9656 - val_loss: 0.4476 - val_accuracy: 0.8900\n",
      "Epoch 4/50\n",
      "128/128 [==============================] - 2s 12ms/step - loss: 0.0888 - accuracy: 0.9757 - val_loss: 0.1126 - val_accuracy: 0.9699\n",
      "Epoch 5/50\n",
      "128/128 [==============================] - 2s 12ms/step - loss: 0.0894 - accuracy: 0.9752 - val_loss: 0.3917 - val_accuracy: 0.7985\n",
      "Epoch 6/50\n",
      "128/128 [==============================] - 2s 12ms/step - loss: 0.0892 - accuracy: 0.9749 - val_loss: 0.4730 - val_accuracy: 0.9213\n",
      "Epoch 7/50\n",
      "128/128 [==============================] - 2s 12ms/step - loss: 0.0852 - accuracy: 0.9761 - val_loss: 0.0914 - val_accuracy: 0.9769\n",
      "Epoch 8/50\n",
      "128/128 [==============================] - 2s 12ms/step - loss: 0.0872 - accuracy: 0.9755 - val_loss: 3.4772 - val_accuracy: 0.5186\n",
      "Epoch 9/50\n",
      "128/128 [==============================] - 2s 12ms/step - loss: 0.0834 - accuracy: 0.9764 - val_loss: 0.2305 - val_accuracy: 0.9507\n",
      "Epoch 10/50\n",
      "128/128 [==============================] - 2s 12ms/step - loss: 0.0868 - accuracy: 0.9750 - val_loss: 0.0924 - val_accuracy: 0.9715\n",
      "Epoch 11/50\n",
      "128/128 [==============================] - 2s 12ms/step - loss: 0.1208 - accuracy: 0.9624 - val_loss: 8.8120 - val_accuracy: 0.6902\n",
      "Epoch 12/50\n",
      "128/128 [==============================] - 2s 12ms/step - loss: 0.0884 - accuracy: 0.9756 - val_loss: 3.3857 - val_accuracy: 0.7769\n",
      "Epoch 13/50\n",
      "128/128 [==============================] - 2s 13ms/step - loss: 0.0862 - accuracy: 0.9758 - val_loss: 0.1068 - val_accuracy: 0.9670\n",
      "Epoch 14/50\n",
      "128/128 [==============================] - 2s 12ms/step - loss: 0.0863 - accuracy: 0.9756 - val_loss: 3.1912 - val_accuracy: 0.5121\n",
      "Epoch 15/50\n",
      "128/128 [==============================] - 2s 12ms/step - loss: 0.0830 - accuracy: 0.9764 - val_loss: 0.1805 - val_accuracy: 0.9582\n",
      "Epoch 16/50\n",
      "128/128 [==============================] - 2s 12ms/step - loss: 0.0848 - accuracy: 0.9756 - val_loss: 0.2089 - val_accuracy: 0.9563\n",
      "Epoch 17/50\n",
      "128/128 [==============================] - 2s 12ms/step - loss: 0.0852 - accuracy: 0.9755 - val_loss: 0.1538 - val_accuracy: 0.9575\n",
      "Epoch 18/50\n",
      "128/128 [==============================] - 2s 12ms/step - loss: 0.0804 - accuracy: 0.9766 - val_loss: 2.3577 - val_accuracy: 0.5324\n",
      "Epoch 19/50\n",
      "128/128 [==============================] - 2s 12ms/step - loss: 0.0817 - accuracy: 0.9762 - val_loss: 0.1334 - val_accuracy: 0.9555\n",
      "Epoch 20/50\n",
      "128/128 [==============================] - 2s 12ms/step - loss: 0.2052 - accuracy: 0.9274 - val_loss: 12.0820 - val_accuracy: 0.6035\n",
      "Epoch 21/50\n",
      "128/128 [==============================] - 2s 13ms/step - loss: 0.0988 - accuracy: 0.9738 - val_loss: 20.8759 - val_accuracy: 0.6158\n",
      "Epoch 22/50\n",
      "128/128 [==============================] - 2s 12ms/step - loss: 0.0881 - accuracy: 0.9761 - val_loss: 2.5361 - val_accuracy: 0.6599\n",
      "Epoch 23/50\n",
      "128/128 [==============================] - 2s 13ms/step - loss: 0.0872 - accuracy: 0.9756 - val_loss: 1.0195 - val_accuracy: 0.7634\n",
      "Epoch 24/50\n",
      "128/128 [==============================] - 2s 12ms/step - loss: 0.0881 - accuracy: 0.9754 - val_loss: 2.5486 - val_accuracy: 0.5051\n",
      "Epoch 25/50\n",
      "128/128 [==============================] - 2s 12ms/step - loss: 0.0835 - accuracy: 0.9766 - val_loss: 1.5666 - val_accuracy: 0.5510\n",
      "Epoch 26/50\n",
      "128/128 [==============================] - 2s 13ms/step - loss: 0.0848 - accuracy: 0.9760 - val_loss: 3.3523 - val_accuracy: 0.8015\n",
      "Epoch 27/50\n",
      "128/128 [==============================] - 2s 12ms/step - loss: 0.1192 - accuracy: 0.9629 - val_loss: 7.7820 - val_accuracy: 0.6866\n",
      "Epoch 28/50\n",
      "128/128 [==============================] - 2s 12ms/step - loss: 0.0891 - accuracy: 0.9752 - val_loss: 1.8139 - val_accuracy: 0.8133\n",
      "Epoch 29/50\n",
      "128/128 [==============================] - 2s 12ms/step - loss: 0.0879 - accuracy: 0.9752 - val_loss: 0.4359 - val_accuracy: 0.9270\n",
      "Epoch 30/50\n",
      "128/128 [==============================] - 2s 12ms/step - loss: 0.0842 - accuracy: 0.9759 - val_loss: 2.2355 - val_accuracy: 0.5272\n",
      "Epoch 31/50\n",
      "128/128 [==============================] - 2s 12ms/step - loss: 0.0835 - accuracy: 0.9759 - val_loss: 0.2020 - val_accuracy: 0.9535\n",
      "Epoch 32/50\n",
      "128/128 [==============================] - 2s 12ms/step - loss: 0.0828 - accuracy: 0.9758 - val_loss: 0.2672 - val_accuracy: 0.9440\n",
      "Epoch 33/50\n",
      "128/128 [==============================] - 2s 13ms/step - loss: 0.0874 - accuracy: 0.9744 - val_loss: 0.2919 - val_accuracy: 0.8690\n",
      "Epoch 34/50\n",
      "128/128 [==============================] - 2s 12ms/step - loss: 0.0831 - accuracy: 0.9757 - val_loss: 0.0900 - val_accuracy: 0.9732\n",
      "Epoch 35/50\n",
      "128/128 [==============================] - 2s 12ms/step - loss: 0.0814 - accuracy: 0.9762 - val_loss: 0.1628 - val_accuracy: 0.9559\n",
      "Epoch 36/50\n",
      "128/128 [==============================] - 2s 12ms/step - loss: 0.0859 - accuracy: 0.9745 - val_loss: 1.0236 - val_accuracy: 0.8628\n",
      "Epoch 37/50\n",
      "128/128 [==============================] - 2s 12ms/step - loss: 0.0820 - accuracy: 0.9757 - val_loss: 3.9914 - val_accuracy: 0.5143\n",
      "Epoch 38/50\n",
      "128/128 [==============================] - 2s 13ms/step - loss: 0.0900 - accuracy: 0.9732 - val_loss: 0.1405 - val_accuracy: 0.9586\n",
      "Epoch 39/50\n",
      "128/128 [==============================] - 2s 12ms/step - loss: 0.0819 - accuracy: 0.9760 - val_loss: 2.2022 - val_accuracy: 0.5590\n",
      "Epoch 40/50\n",
      "128/128 [==============================] - 2s 12ms/step - loss: 0.0861 - accuracy: 0.9744 - val_loss: 0.7998 - val_accuracy: 0.6246\n",
      "Epoch 41/50\n",
      "128/128 [==============================] - 2s 12ms/step - loss: 0.0811 - accuracy: 0.9759 - val_loss: 0.1657 - val_accuracy: 0.9383\n",
      "Epoch 42/50\n",
      "128/128 [==============================] - 2s 13ms/step - loss: 0.0956 - accuracy: 0.9707 - val_loss: 15.7083 - val_accuracy: 0.5104\n",
      "Epoch 43/50\n",
      "128/128 [==============================] - 2s 13ms/step - loss: 0.7456 - accuracy: 0.6319 - val_loss: 0.8013 - val_accuracy: 0.5362\n",
      "Epoch 44/50\n",
      "128/128 [==============================] - 2s 12ms/step - loss: 0.7045 - accuracy: 0.5830 - val_loss: 0.7154 - val_accuracy: 0.5293\n",
      "Epoch 45/50\n",
      "128/128 [==============================] - 2s 13ms/step - loss: 0.6880 - accuracy: 0.5931 - val_loss: 0.7136 - val_accuracy: 0.5398\n",
      "Epoch 46/50\n",
      "128/128 [==============================] - 2s 12ms/step - loss: 0.6816 - accuracy: 0.6012 - val_loss: 0.7127 - val_accuracy: 0.5212\n",
      "Epoch 47/50\n",
      "128/128 [==============================] - 2s 12ms/step - loss: 0.6783 - accuracy: 0.6040 - val_loss: 0.6944 - val_accuracy: 0.5917\n",
      "Epoch 48/50\n",
      "128/128 [==============================] - 2s 13ms/step - loss: 0.6772 - accuracy: 0.6053 - val_loss: 0.6752 - val_accuracy: 0.6113\n",
      "Epoch 49/50\n",
      "128/128 [==============================] - 2s 13ms/step - loss: 0.6759 - accuracy: 0.6055 - val_loss: 0.6684 - val_accuracy: 0.6145\n",
      "Epoch 50/50\n",
      "128/128 [==============================] - 2s 12ms/step - loss: 0.6730 - accuracy: 0.6076 - val_loss: 0.6658 - val_accuracy: 0.6147\n"
     ]
    }
   ],
   "source": [
    "history = model.fit(x_train, y_train, epochs=20, batch_size=2000,validation_split=0.2, verbose=True) "
   ]
  },
  {
   "cell_type": "code",
   "execution_count": 48,
   "id": "6e3070a0",
   "metadata": {},
   "outputs": [
    {
     "name": "stdout",
     "output_type": "stream",
     "text": [
      "4265/4265 [==============================] - 5s 1ms/step\n"
     ]
    }
   ],
   "source": [
    "preds_array = model.predict(x_test)\n",
    "pred_list = []\n",
    "for i,pred in enumerate(preds_array):\n",
    "    pred_list.append(pred.argmax())"
   ]
  },
  {
   "cell_type": "code",
   "execution_count": 49,
   "id": "2a3ea9f5",
   "metadata": {},
   "outputs": [
    {
     "name": "stdout",
     "output_type": "stream",
     "text": [
      "Number of mislabeled points out of a total 136471 points : 68274\n",
      "       0  1\n",
      "0  68197  0\n",
      "1  68274  0\n",
      "\n",
      "\n",
      "              precision    recall  f1-score   support\n",
      "\n",
      "           0       0.50      1.00      0.67     68197\n",
      "           1       0.00      0.00      0.00     68274\n",
      "\n",
      "    accuracy                           0.50    136471\n",
      "   macro avg       0.25      0.50      0.33    136471\n",
      "weighted avg       0.25      0.50      0.33    136471\n",
      "\n"
     ]
    }
   ],
   "source": [
    "print(\"Number of mislabeled points out of a total %d points : %d\"\n",
    "       % (x_test.shape[0], (y_test != pred_list).sum()))\n",
    "show_metrics(y_test,pred_list)"
   ]
  },
  {
   "cell_type": "code",
   "execution_count": 52,
   "id": "c863a335",
   "metadata": {},
   "outputs": [
    {
     "name": "stdout",
     "output_type": "stream",
     "text": [
      "4265/4265 [==============================] - 5s 1ms/step\n",
      "AUC Score is:  0.6634021404895463\n"
     ]
    },
    {
     "data": {
      "text/plain": [
       "[<matplotlib.lines.Line2D at 0x1b93e9f77c0>]"
      ]
     },
     "execution_count": 52,
     "metadata": {},
     "output_type": "execute_result"
    },
    {
     "data": {
      "image/png": "[encoded data removed]",
      "text/plain": [
       "<Figure size 432x288 with 1 Axes>"
      ]
     },
     "metadata": {
      "needs_background": "light"
     },
     "output_type": "display_data"
    }
   ],
   "source": [
    "#ROC\n",
    "\n",
    "from sklearn.metrics import roc_curve\n",
    "from sklearn.metrics import roc_auc_score\n",
    "import matplotlib.pyplot as plt\n",
    "%matplotlib inline\n",
    "\n",
    "#For plotting the curve we need the values of tpr and fpr which is calculated using \n",
    "#prob values for 1 predicted by model\n",
    "\n",
    "probabilityValues =  model.predict(x_test)\n",
    "\n",
    "#Calc AUC\n",
    "auc = roc_auc_score(y_test,probabilityValues)\n",
    "print('AUC Score is: ',auc)\n",
    "\n",
    "#Calc ROC Curve\n",
    "fpr,tpr,threshold = roc_curve(y_test,probabilityValues)\n",
    "\n",
    "#Plot Skill Line\n",
    "plt.plot([0,1],[0,1], linestyle = '--')\n",
    "\n",
    "#Plot ROC Curve\n",
    "plt.plot(fpr,tpr)"
   ]
  },
  {
   "cell_type": "markdown",
   "id": "495fb117",
   "metadata": {},
   "source": [
    "# Anomaly Detection:"
   ]
  },
  {
   "cell_type": "markdown",
   "id": "54b1a232",
   "metadata": {},
   "source": [
    "•\tAssume that the data is coming from a single or a combination of multivariate Gaussian\n",
    "\n"
   ]
  },
  {
   "cell_type": "code",
   "execution_count": 88,
   "id": "53f65321",
   "metadata": {},
   "outputs": [],
   "source": [
    "from sklearn.ensemble import IsolationForest\n",
    "from sklearn.neighbors import LocalOutlierFactor"
   ]
  },
  {
   "cell_type": "code",
   "execution_count": 89,
   "id": "51b8875a",
   "metadata": {},
   "outputs": [
    {
     "name": "stdout",
     "output_type": "stream",
     "text": [
      "traindata1.shape (227845, 31)\n",
      "testdata1.shape (568, 31)\n"
     ]
    }
   ],
   "source": [
    "testdata1= test_data\n",
    "traindata1= train_data\n",
    "print('traindata1.shape',traindata1.shape)\n",
    "print('testdata1.shape',testdata1.shape)"
   ]
  },
  {
   "cell_type": "code",
   "execution_count": 90,
   "id": "cd9843b9",
   "metadata": {},
   "outputs": [
    {
     "name": "stdout",
     "output_type": "stream",
     "text": [
      "0.0017322412299792043\n",
      "Fraud Cases : 394\n",
      "Valid Cases : 227451\n",
      "the shape of X_train and  y_train:  (227845, 30) (227845,)\n",
      "the shape of X_test and  y_test:  (568, 30) (568,)\n"
     ]
    }
   ],
   "source": [
    "#Determine the number of fraud and valid transactions in the dataset\n",
    "Fraud = traindata1[traindata1['Class']==1]\n",
    "\n",
    "Valid = traindata1[traindata1['Class']==0]\n",
    "\n",
    "outlier_fraction = len(Fraud)/float(len(Valid))\n",
    "print(outlier_fraction)\n",
    "print(\"Fraud Cases : {}\".format(len(Fraud)))\n",
    "print(\"Valid Cases : {}\".format(len(Valid)))\n",
    "\n",
    "#Extract features and label\n",
    "X_train=traindata1.drop(columns=['Class'])\n",
    "y_train=traindata1['Class']\n",
    "\n",
    "X_test=testdata1.drop(columns=['Class'])\n",
    "y_test=testdata1['Class']\n",
    "print('the shape of X_train and  y_train: ', X_train.shape, y_train.shape)\n",
    "print('the shape of X_test and  y_test: ', X_test.shape,y_test.shape)\n",
    "# Define a random state \n",
    "state = np.random.RandomState(42)"
   ]
  },
  {
   "cell_type": "code",
   "execution_count": 91,
   "id": "fb9ccda7",
   "metadata": {},
   "outputs": [
    {
     "name": "stdout",
     "output_type": "stream",
     "text": [
      "Isolation Forest: 519 Errors\n",
      "Accuracy Score :\n",
      "0.9977221356624021\n",
      "Classification Report :\n",
      "              precision    recall  f1-score   support\n",
      "\n",
      "           0       1.00      1.00      1.00    227451\n",
      "           1       0.34      0.34      0.34       394\n",
      "\n",
      "    accuracy                           1.00    227845\n",
      "   macro avg       0.67      0.67      0.67    227845\n",
      "weighted avg       1.00      1.00      1.00    227845\n",
      "\n",
      "Local Outlier Factor: 647 Errors\n",
      "Accuracy Score :\n",
      "0.9971603502381005\n",
      "Classification Report :\n",
      "              precision    recall  f1-score   support\n",
      "\n",
      "           0       1.00      1.00      1.00    227451\n",
      "           1       0.07      0.05      0.06       394\n",
      "\n",
      "    accuracy                           1.00    227845\n",
      "   macro avg       0.53      0.52      0.53    227845\n",
      "weighted avg       1.00      1.00      1.00    227845\n",
      "\n",
      "Wall time: 5min 19s\n"
     ]
    }
   ],
   "source": [
    "%%time\n",
    "##Define the outlier detection methods\n",
    "\n",
    "classifiers = {\n",
    "    \"Isolation Forest\":IsolationForest(n_estimators=100, max_samples=len(X_train), \n",
    "                                       contamination=outlier_fraction,random_state=state),\n",
    "    \"Local Outlier Factor\":LocalOutlierFactor(n_neighbors=20, algorithm='auto', \n",
    "                                              leaf_size=30, metric='minkowski',\n",
    "                                              p=2, metric_params=None, contamination=outlier_fraction,novelty=True)\n",
    "   \n",
    "}\n",
    "\n",
    "\n",
    "# Model Training and Testing\n",
    "for i, (clf_name,clf) in enumerate(classifiers.items()):\n",
    "    #Fit the data and tag outliers\n",
    "    if clf_name == \"Local Outlier Factor\":\n",
    "        clf.fit(X_train)\n",
    "        y_pred = clf.predict(X_train)\n",
    "        scores_prediction = clf.negative_outlier_factor_\n",
    "    elif clf_name == \"Support Vector Machine\":\n",
    "        clf.fit(X_train)\n",
    "        y_pred = clf.predict(X_train)\n",
    "    else:    \n",
    "        clf.fit(X_train)\n",
    "        scores_prediction = clf.decision_function(X_train)\n",
    "        y_pred = clf.predict(X_train)\n",
    "    #Reshape the prediction values to 0 for Valid transactions , 1 for Fraud transactions\n",
    "    y_pred[y_pred == 1] = 0\n",
    "    y_pred[y_pred == -1] = 1\n",
    "    n_errors = (y_pred != y_train).sum()\n",
    "    # Run Classification Metrics\n",
    "    print(\"{}: {} Errors\".format(clf_name,n_errors))\n",
    "    print(\"Accuracy Score :\")\n",
    "    print(accuracy_score(y_train,y_pred))\n",
    "    print(\"Classification Report :\")\n",
    "    print(classification_report(y_train,y_pred))"
   ]
  },
  {
   "cell_type": "markdown",
   "id": "b023039f",
   "metadata": {},
   "source": [
    "# Formalize a scoring criterion, which gives a scoring probability for the given data point whether it belongs to the multivariate Gaussian or Normal Distribution fitted in (a)\n",
    "  Inference and Observations"
   ]
  },
  {
   "cell_type": "code",
   "execution_count": 94,
   "id": "d12d403b",
   "metadata": {},
   "outputs": [
    {
     "name": "stdout",
     "output_type": "stream",
     "text": [
      "Wall time: 1min 37s\n"
     ]
    }
   ],
   "source": [
    "%%time\n",
    "#Lets take Isolation Forest as the final model and predict the scores,missclassification error etc.\n",
    "model_iforest=IsolationForest(n_estimators=200, \n",
    "                           max_samples=len(X_train),\n",
    "                           contamination=outlier_fraction,\n",
    "                           random_state=state\n",
    "                          )\n",
    "model_iforest.fit(X_train)\n",
    "y_pred_train=model_iforest.predict(X_train) # Predict Train data\n",
    "y_pred_test=model_iforest.predict(X_test)   # Predict Test data\n",
    "\n",
    "#Reshape the prediction values to 0 for Non-Fraud , 1 for Fraud transactions for Train\n",
    "y_pred_train[y_pred_train == 1] = 0\n",
    "y_pred_train[y_pred_train == -1] = 1\n",
    "\n",
    "#Reshape the prediction values to 0 for Non-Fraud , 1 for Fraud transactions for Test\n",
    "y_pred_test[y_pred_test == 1] = 0\n",
    "y_pred_test[y_pred_test == -1] = 1"
   ]
  },
  {
   "cell_type": "code",
   "execution_count": 95,
   "id": "dc8629c2",
   "metadata": {},
   "outputs": [
    {
     "data": {
      "text/html": [
       "<div>\n",
       "<style scoped>\n",
       "    .dataframe tbody tr th:only-of-type {\n",
       "        vertical-align: middle;\n",
       "    }\n",
       "\n",
       "    .dataframe tbody tr th {\n",
       "        vertical-align: top;\n",
       "    }\n",
       "\n",
       "    .dataframe thead th {\n",
       "        text-align: right;\n",
       "    }\n",
       "</style>\n",
       "<table border=\"1\" class=\"dataframe\">\n",
       "  <thead>\n",
       "    <tr style=\"text-align: right;\">\n",
       "      <th></th>\n",
       "      <th>Time</th>\n",
       "      <th>V1</th>\n",
       "      <th>V2</th>\n",
       "      <th>V3</th>\n",
       "      <th>V4</th>\n",
       "      <th>V5</th>\n",
       "      <th>V6</th>\n",
       "      <th>V7</th>\n",
       "      <th>V8</th>\n",
       "      <th>V9</th>\n",
       "      <th>...</th>\n",
       "      <th>V23</th>\n",
       "      <th>V24</th>\n",
       "      <th>V25</th>\n",
       "      <th>V26</th>\n",
       "      <th>V27</th>\n",
       "      <th>V28</th>\n",
       "      <th>Amount</th>\n",
       "      <th>Class</th>\n",
       "      <th>Predicted_Class</th>\n",
       "      <th>Scores</th>\n",
       "    </tr>\n",
       "  </thead>\n",
       "  <tbody>\n",
       "    <tr>\n",
       "      <th>0</th>\n",
       "      <td>38355.0</td>\n",
       "      <td>1.043949</td>\n",
       "      <td>0.318555</td>\n",
       "      <td>1.045810</td>\n",
       "      <td>2.805989</td>\n",
       "      <td>-0.561113</td>\n",
       "      <td>-0.367956</td>\n",
       "      <td>0.032736</td>\n",
       "      <td>-0.042333</td>\n",
       "      <td>-0.322674</td>\n",
       "      <td>...</td>\n",
       "      <td>0.085328</td>\n",
       "      <td>0.684812</td>\n",
       "      <td>0.318620</td>\n",
       "      <td>-0.204963</td>\n",
       "      <td>0.001662</td>\n",
       "      <td>0.037894</td>\n",
       "      <td>49.67</td>\n",
       "      <td>0</td>\n",
       "      <td>0</td>\n",
       "      <td>0.191107</td>\n",
       "    </tr>\n",
       "    <tr>\n",
       "      <th>1</th>\n",
       "      <td>22555.0</td>\n",
       "      <td>-1.665159</td>\n",
       "      <td>0.808440</td>\n",
       "      <td>1.805627</td>\n",
       "      <td>1.903416</td>\n",
       "      <td>-0.821627</td>\n",
       "      <td>0.934790</td>\n",
       "      <td>-0.824802</td>\n",
       "      <td>0.975890</td>\n",
       "      <td>1.747469</td>\n",
       "      <td>...</td>\n",
       "      <td>0.035839</td>\n",
       "      <td>0.147565</td>\n",
       "      <td>-0.529358</td>\n",
       "      <td>-0.566950</td>\n",
       "      <td>-0.595998</td>\n",
       "      <td>-0.220086</td>\n",
       "      <td>16.94</td>\n",
       "      <td>0</td>\n",
       "      <td>0</td>\n",
       "      <td>0.166320</td>\n",
       "    </tr>\n",
       "    <tr>\n",
       "      <th>2</th>\n",
       "      <td>2431.0</td>\n",
       "      <td>-0.324096</td>\n",
       "      <td>0.601836</td>\n",
       "      <td>0.865329</td>\n",
       "      <td>-2.138000</td>\n",
       "      <td>0.294663</td>\n",
       "      <td>-1.251553</td>\n",
       "      <td>1.072114</td>\n",
       "      <td>-0.334896</td>\n",
       "      <td>1.071268</td>\n",
       "      <td>...</td>\n",
       "      <td>-0.341505</td>\n",
       "      <td>-0.145791</td>\n",
       "      <td>0.094194</td>\n",
       "      <td>-0.804026</td>\n",
       "      <td>0.229428</td>\n",
       "      <td>-0.021623</td>\n",
       "      <td>1.00</td>\n",
       "      <td>0</td>\n",
       "      <td>0</td>\n",
       "      <td>0.170325</td>\n",
       "    </tr>\n",
       "    <tr>\n",
       "      <th>3</th>\n",
       "      <td>86773.0</td>\n",
       "      <td>-0.258270</td>\n",
       "      <td>1.217501</td>\n",
       "      <td>-0.585348</td>\n",
       "      <td>-0.875347</td>\n",
       "      <td>1.222481</td>\n",
       "      <td>-0.311027</td>\n",
       "      <td>1.073860</td>\n",
       "      <td>-0.161408</td>\n",
       "      <td>0.200665</td>\n",
       "      <td>...</td>\n",
       "      <td>0.019316</td>\n",
       "      <td>0.178614</td>\n",
       "      <td>-0.315616</td>\n",
       "      <td>0.096665</td>\n",
       "      <td>0.269740</td>\n",
       "      <td>-0.020635</td>\n",
       "      <td>10.78</td>\n",
       "      <td>0</td>\n",
       "      <td>0</td>\n",
       "      <td>0.196440</td>\n",
       "    </tr>\n",
       "    <tr>\n",
       "      <th>4</th>\n",
       "      <td>127202.0</td>\n",
       "      <td>2.142162</td>\n",
       "      <td>-0.494988</td>\n",
       "      <td>-1.936511</td>\n",
       "      <td>-0.818288</td>\n",
       "      <td>-0.025213</td>\n",
       "      <td>-1.027245</td>\n",
       "      <td>-0.151627</td>\n",
       "      <td>-0.305750</td>\n",
       "      <td>-0.869482</td>\n",
       "      <td>...</td>\n",
       "      <td>0.079463</td>\n",
       "      <td>-0.480899</td>\n",
       "      <td>0.023846</td>\n",
       "      <td>-0.279076</td>\n",
       "      <td>-0.030121</td>\n",
       "      <td>-0.043888</td>\n",
       "      <td>39.96</td>\n",
       "      <td>0</td>\n",
       "      <td>0</td>\n",
       "      <td>0.190288</td>\n",
       "    </tr>\n",
       "    <tr>\n",
       "      <th>...</th>\n",
       "      <td>...</td>\n",
       "      <td>...</td>\n",
       "      <td>...</td>\n",
       "      <td>...</td>\n",
       "      <td>...</td>\n",
       "      <td>...</td>\n",
       "      <td>...</td>\n",
       "      <td>...</td>\n",
       "      <td>...</td>\n",
       "      <td>...</td>\n",
       "      <td>...</td>\n",
       "      <td>...</td>\n",
       "      <td>...</td>\n",
       "      <td>...</td>\n",
       "      <td>...</td>\n",
       "      <td>...</td>\n",
       "      <td>...</td>\n",
       "      <td>...</td>\n",
       "      <td>...</td>\n",
       "      <td>...</td>\n",
       "      <td>...</td>\n",
       "    </tr>\n",
       "    <tr>\n",
       "      <th>227840</th>\n",
       "      <td>62074.0</td>\n",
       "      <td>-1.993953</td>\n",
       "      <td>1.734986</td>\n",
       "      <td>-1.108037</td>\n",
       "      <td>-2.671817</td>\n",
       "      <td>1.605319</td>\n",
       "      <td>3.041992</td>\n",
       "      <td>-0.417771</td>\n",
       "      <td>1.438007</td>\n",
       "      <td>0.945437</td>\n",
       "      <td>...</td>\n",
       "      <td>0.047110</td>\n",
       "      <td>1.008409</td>\n",
       "      <td>0.234363</td>\n",
       "      <td>0.768581</td>\n",
       "      <td>0.697625</td>\n",
       "      <td>0.354542</td>\n",
       "      <td>14.83</td>\n",
       "      <td>0</td>\n",
       "      <td>0</td>\n",
       "      <td>0.178712</td>\n",
       "    </tr>\n",
       "    <tr>\n",
       "      <th>227841</th>\n",
       "      <td>32193.0</td>\n",
       "      <td>-0.440396</td>\n",
       "      <td>1.062920</td>\n",
       "      <td>1.582218</td>\n",
       "      <td>-0.029761</td>\n",
       "      <td>0.040967</td>\n",
       "      <td>-0.903627</td>\n",
       "      <td>0.730326</td>\n",
       "      <td>-0.108175</td>\n",
       "      <td>-0.513163</td>\n",
       "      <td>...</td>\n",
       "      <td>-0.024762</td>\n",
       "      <td>0.382581</td>\n",
       "      <td>-0.164620</td>\n",
       "      <td>0.068836</td>\n",
       "      <td>0.269144</td>\n",
       "      <td>0.123483</td>\n",
       "      <td>2.58</td>\n",
       "      <td>0</td>\n",
       "      <td>0</td>\n",
       "      <td>0.195769</td>\n",
       "    </tr>\n",
       "    <tr>\n",
       "      <th>227842</th>\n",
       "      <td>163864.0</td>\n",
       "      <td>0.827820</td>\n",
       "      <td>-2.649344</td>\n",
       "      <td>-3.161235</td>\n",
       "      <td>0.209209</td>\n",
       "      <td>-0.561331</td>\n",
       "      <td>-1.570386</td>\n",
       "      <td>1.612531</td>\n",
       "      <td>-0.930219</td>\n",
       "      <td>-1.318562</td>\n",
       "      <td>...</td>\n",
       "      <td>-0.746698</td>\n",
       "      <td>0.171847</td>\n",
       "      <td>0.247576</td>\n",
       "      <td>0.936557</td>\n",
       "      <td>-0.258164</td>\n",
       "      <td>0.037868</td>\n",
       "      <td>748.04</td>\n",
       "      <td>0</td>\n",
       "      <td>0</td>\n",
       "      <td>0.162061</td>\n",
       "    </tr>\n",
       "    <tr>\n",
       "      <th>227843</th>\n",
       "      <td>122571.0</td>\n",
       "      <td>-1.523903</td>\n",
       "      <td>-6.287060</td>\n",
       "      <td>-2.638246</td>\n",
       "      <td>1.330015</td>\n",
       "      <td>-1.672002</td>\n",
       "      <td>1.957509</td>\n",
       "      <td>1.359226</td>\n",
       "      <td>0.081727</td>\n",
       "      <td>0.753151</td>\n",
       "      <td>...</td>\n",
       "      <td>-1.360187</td>\n",
       "      <td>-1.507703</td>\n",
       "      <td>-1.183927</td>\n",
       "      <td>0.578076</td>\n",
       "      <td>-0.328557</td>\n",
       "      <td>0.229935</td>\n",
       "      <td>1771.50</td>\n",
       "      <td>0</td>\n",
       "      <td>0</td>\n",
       "      <td>0.149618</td>\n",
       "    </tr>\n",
       "    <tr>\n",
       "      <th>227844</th>\n",
       "      <td>43440.0</td>\n",
       "      <td>-1.608560</td>\n",
       "      <td>0.132746</td>\n",
       "      <td>2.075995</td>\n",
       "      <td>-1.937332</td>\n",
       "      <td>-1.822305</td>\n",
       "      <td>-0.429669</td>\n",
       "      <td>0.247042</td>\n",
       "      <td>0.684452</td>\n",
       "      <td>1.177470</td>\n",
       "      <td>...</td>\n",
       "      <td>0.173478</td>\n",
       "      <td>0.570107</td>\n",
       "      <td>0.504597</td>\n",
       "      <td>-0.659853</td>\n",
       "      <td>0.175060</td>\n",
       "      <td>0.092039</td>\n",
       "      <td>191.80</td>\n",
       "      <td>0</td>\n",
       "      <td>0</td>\n",
       "      <td>0.176409</td>\n",
       "    </tr>\n",
       "  </tbody>\n",
       "</table>\n",
       "<p>227845 rows × 33 columns</p>\n",
       "</div>"
      ],
      "text/plain": [
       "            Time        V1        V2        V3        V4        V5        V6  \\\n",
       "0        38355.0  1.043949  0.318555  1.045810  2.805989 -0.561113 -0.367956   \n",
       "1        22555.0 -1.665159  0.808440  1.805627  1.903416 -0.821627  0.934790   \n",
       "2         2431.0 -0.324096  0.601836  0.865329 -2.138000  0.294663 -1.251553   \n",
       "3        86773.0 -0.258270  1.217501 -0.585348 -0.875347  1.222481 -0.311027   \n",
       "4       127202.0  2.142162 -0.494988 -1.936511 -0.818288 -0.025213 -1.027245   \n",
       "...          ...       ...       ...       ...       ...       ...       ...   \n",
       "227840   62074.0 -1.993953  1.734986 -1.108037 -2.671817  1.605319  3.041992   \n",
       "227841   32193.0 -0.440396  1.062920  1.582218 -0.029761  0.040967 -0.903627   \n",
       "227842  163864.0  0.827820 -2.649344 -3.161235  0.209209 -0.561331 -1.570386   \n",
       "227843  122571.0 -1.523903 -6.287060 -2.638246  1.330015 -1.672002  1.957509   \n",
       "227844   43440.0 -1.608560  0.132746  2.075995 -1.937332 -1.822305 -0.429669   \n",
       "\n",
       "              V7        V8        V9  ...       V23       V24       V25  \\\n",
       "0       0.032736 -0.042333 -0.322674  ...  0.085328  0.684812  0.318620   \n",
       "1      -0.824802  0.975890  1.747469  ...  0.035839  0.147565 -0.529358   \n",
       "2       1.072114 -0.334896  1.071268  ... -0.341505 -0.145791  0.094194   \n",
       "3       1.073860 -0.161408  0.200665  ...  0.019316  0.178614 -0.315616   \n",
       "4      -0.151627 -0.305750 -0.869482  ...  0.079463 -0.480899  0.023846   \n",
       "...          ...       ...       ...  ...       ...       ...       ...   \n",
       "227840 -0.417771  1.438007  0.945437  ...  0.047110  1.008409  0.234363   \n",
       "227841  0.730326 -0.108175 -0.513163  ... -0.024762  0.382581 -0.164620   \n",
       "227842  1.612531 -0.930219 -1.318562  ... -0.746698  0.171847  0.247576   \n",
       "227843  1.359226  0.081727  0.753151  ... -1.360187 -1.507703 -1.183927   \n",
       "227844  0.247042  0.684452  1.177470  ...  0.173478  0.570107  0.504597   \n",
       "\n",
       "             V26       V27       V28   Amount  Class  Predicted_Class  \\\n",
       "0      -0.204963  0.001662  0.037894    49.67      0                0   \n",
       "1      -0.566950 -0.595998 -0.220086    16.94      0                0   \n",
       "2      -0.804026  0.229428 -0.021623     1.00      0                0   \n",
       "3       0.096665  0.269740 -0.020635    10.78      0                0   \n",
       "4      -0.279076 -0.030121 -0.043888    39.96      0                0   \n",
       "...          ...       ...       ...      ...    ...              ...   \n",
       "227840  0.768581  0.697625  0.354542    14.83      0                0   \n",
       "227841  0.068836  0.269144  0.123483     2.58      0                0   \n",
       "227842  0.936557 -0.258164  0.037868   748.04      0                0   \n",
       "227843  0.578076 -0.328557  0.229935  1771.50      0                0   \n",
       "227844 -0.659853  0.175060  0.092039   191.80      0                0   \n",
       "\n",
       "          Scores  \n",
       "0       0.191107  \n",
       "1       0.166320  \n",
       "2       0.170325  \n",
       "3       0.196440  \n",
       "4       0.190288  \n",
       "...          ...  \n",
       "227840  0.178712  \n",
       "227841  0.195769  \n",
       "227842  0.162061  \n",
       "227843  0.149618  \n",
       "227844  0.176409  \n",
       "\n",
       "[227845 rows x 33 columns]"
      ]
     },
     "execution_count": 95,
     "metadata": {},
     "output_type": "execute_result"
    }
   ],
   "source": [
    "iforest_prediction_train"
   ]
  },
  {
   "cell_type": "markdown",
   "id": "e6266c22",
   "metadata": {},
   "source": [
    "# predict train data"
   ]
  },
  {
   "cell_type": "code",
   "execution_count": 96,
   "id": "eae3b70e",
   "metadata": {},
   "outputs": [
    {
     "name": "stdout",
     "output_type": "stream",
     "text": [
      "number of missclassification error  is: 537\n",
      "Confusion Matrix : \n",
      "[[227182    269]\n",
      " [   268    126]]\n",
      "Classification Report :\n",
      "              precision    recall  f1-score   support\n",
      "\n",
      "           0       1.00      1.00      1.00    227451\n",
      "           1       0.32      0.32      0.32       394\n",
      "\n",
      "    accuracy                           1.00    227845\n",
      "   macro avg       0.66      0.66      0.66    227845\n",
      "weighted avg       1.00      1.00      1.00    227845\n",
      "\n",
      "Wall time: 40.7 s\n"
     ]
    }
   ],
   "source": [
    "%%time\n",
    "#Predict the Class\n",
    "Predicted_Class=pd.DataFrame(data=y_pred_train,columns=['Predicted_Class'])# convert the Predicted_Class to a dataframe\n",
    "iforest_prediction_train=pd.concat([traindata1,Predicted_Class],axis=1)# append the score column to the original  data\n",
    "\n",
    "#Find the misclassification error\n",
    "n_errors = (y_pred_train != y_train).sum()\n",
    "print('number of missclassification error  is: {}'.format(n_errors))\n",
    "\n",
    "#Predict the Scores\n",
    "train_scores=model_iforest.decision_function(X_train) # Predict the scores\n",
    "train_scores=pd.DataFrame(data=train_scores,columns=['Scores'])# convert the scores to dataframe\n",
    "iforest_prediction_train=pd.concat([iforest_prediction_train,train_scores],axis=1)# append the score column to the original  data\n",
    "print(\"Confusion Matrix : \")\n",
    "print(confusion_matrix(y_train,y_pred_train))\n",
    "print(\"Classification Report :\")\n",
    "print(classification_report(y_train,y_pred_train))"
   ]
  },
  {
   "cell_type": "markdown",
   "id": "dd076f30",
   "metadata": {},
   "source": [
    "# predict test data"
   ]
  },
  {
   "cell_type": "code",
   "execution_count": 97,
   "id": "a2cc1087",
   "metadata": {},
   "outputs": [
    {
     "name": "stdout",
     "output_type": "stream",
     "text": [
      "number of missclassification error for the data is: 1\n",
      "Confusion Matrix : \n",
      "[[562   0]\n",
      " [  1   5]]\n",
      "Classification Report :\n",
      "              precision    recall  f1-score   support\n",
      "\n",
      "           0       1.00      1.00      1.00       562\n",
      "           1       1.00      0.83      0.91         6\n",
      "\n",
      "    accuracy                           1.00       568\n",
      "   macro avg       1.00      0.92      0.95       568\n",
      "weighted avg       1.00      1.00      1.00       568\n",
      "\n",
      "Wall time: 192 ms\n"
     ]
    }
   ],
   "source": [
    "%%time\n",
    "#Predict the Class\n",
    "Predicted_Class=pd.DataFrame(data=y_pred_test,columns=['Predicted_Class'])# convert the Predicted_Class to a dataframe\n",
    "iforest_prediction_test=pd.concat([testdata1,Predicted_Class],axis=1)# append the score column to the original data\n",
    "\n",
    "#Find the misclassification error\n",
    "n_errors = (y_pred_test != y_test).sum()\n",
    "print('number of missclassification error for the data is: {}'.format(n_errors))\n",
    "\n",
    "#Predict the Scores\n",
    "test_scores=model_iforest.decision_function(X_test) # Predict the scores\n",
    "test_scores=pd.DataFrame(data=test_scores,columns=['Scores'])# convert the scores to dataframe\n",
    "iforest_prediction_test=pd.concat([iforest_prediction_test,test_scores],axis=1)# append the score column to the original  data\n",
    "print(\"Confusion Matrix : \")\n",
    "print(confusion_matrix(y_test,y_pred_test))\n",
    "print(\"Classification Report :\")\n",
    "print(classification_report(y_test,y_pred_test))"
   ]
  },
  {
   "cell_type": "code",
   "execution_count": 98,
   "id": "dafa540a",
   "metadata": {},
   "outputs": [
    {
     "data": {
      "text/html": [
       "<div>\n",
       "<style scoped>\n",
       "    .dataframe tbody tr th:only-of-type {\n",
       "        vertical-align: middle;\n",
       "    }\n",
       "\n",
       "    .dataframe tbody tr th {\n",
       "        vertical-align: top;\n",
       "    }\n",
       "\n",
       "    .dataframe thead th {\n",
       "        text-align: right;\n",
       "    }\n",
       "</style>\n",
       "<table border=\"1\" class=\"dataframe\">\n",
       "  <thead>\n",
       "    <tr style=\"text-align: right;\">\n",
       "      <th></th>\n",
       "      <th>Time</th>\n",
       "      <th>V1</th>\n",
       "      <th>V2</th>\n",
       "      <th>V3</th>\n",
       "      <th>V4</th>\n",
       "      <th>V5</th>\n",
       "      <th>V6</th>\n",
       "      <th>V7</th>\n",
       "      <th>V8</th>\n",
       "      <th>V9</th>\n",
       "      <th>...</th>\n",
       "      <th>V23</th>\n",
       "      <th>V24</th>\n",
       "      <th>V25</th>\n",
       "      <th>V26</th>\n",
       "      <th>V27</th>\n",
       "      <th>V28</th>\n",
       "      <th>Amount</th>\n",
       "      <th>Class</th>\n",
       "      <th>Predicted_Class</th>\n",
       "      <th>Scores</th>\n",
       "    </tr>\n",
       "  </thead>\n",
       "  <tbody>\n",
       "    <tr>\n",
       "      <th>0</th>\n",
       "      <td>93853.0</td>\n",
       "      <td>-5.839192</td>\n",
       "      <td>7.151532</td>\n",
       "      <td>-12.816760</td>\n",
       "      <td>7.031115</td>\n",
       "      <td>-9.651272</td>\n",
       "      <td>-2.938427</td>\n",
       "      <td>-11.543207</td>\n",
       "      <td>4.843627</td>\n",
       "      <td>-3.494276</td>\n",
       "      <td>...</td>\n",
       "      <td>0.530481</td>\n",
       "      <td>0.472670</td>\n",
       "      <td>-0.275998</td>\n",
       "      <td>0.282435</td>\n",
       "      <td>0.104886</td>\n",
       "      <td>0.254417</td>\n",
       "      <td>316.06</td>\n",
       "      <td>1</td>\n",
       "      <td>1</td>\n",
       "      <td>-0.104614</td>\n",
       "    </tr>\n",
       "    <tr>\n",
       "      <th>1</th>\n",
       "      <td>152242.0</td>\n",
       "      <td>2.108097</td>\n",
       "      <td>0.274271</td>\n",
       "      <td>-2.233325</td>\n",
       "      <td>0.480383</td>\n",
       "      <td>0.568016</td>\n",
       "      <td>-2.003608</td>\n",
       "      <td>1.074235</td>\n",
       "      <td>-0.702590</td>\n",
       "      <td>0.024753</td>\n",
       "      <td>...</td>\n",
       "      <td>-0.167361</td>\n",
       "      <td>0.434520</td>\n",
       "      <td>0.769891</td>\n",
       "      <td>0.102772</td>\n",
       "      <td>-0.071621</td>\n",
       "      <td>-0.082331</td>\n",
       "      <td>1.00</td>\n",
       "      <td>0</td>\n",
       "      <td>0</td>\n",
       "      <td>0.186322</td>\n",
       "    </tr>\n",
       "    <tr>\n",
       "      <th>2</th>\n",
       "      <td>152242.0</td>\n",
       "      <td>2.108097</td>\n",
       "      <td>0.274271</td>\n",
       "      <td>-2.233325</td>\n",
       "      <td>0.480383</td>\n",
       "      <td>0.568016</td>\n",
       "      <td>-2.003608</td>\n",
       "      <td>1.074235</td>\n",
       "      <td>-0.702590</td>\n",
       "      <td>0.024753</td>\n",
       "      <td>...</td>\n",
       "      <td>-0.167361</td>\n",
       "      <td>0.434520</td>\n",
       "      <td>0.769891</td>\n",
       "      <td>0.102772</td>\n",
       "      <td>-0.071621</td>\n",
       "      <td>-0.082331</td>\n",
       "      <td>1.00</td>\n",
       "      <td>0</td>\n",
       "      <td>0</td>\n",
       "      <td>0.186322</td>\n",
       "    </tr>\n",
       "    <tr>\n",
       "      <th>3</th>\n",
       "      <td>152242.0</td>\n",
       "      <td>2.108097</td>\n",
       "      <td>0.274271</td>\n",
       "      <td>-2.233325</td>\n",
       "      <td>0.480383</td>\n",
       "      <td>0.568016</td>\n",
       "      <td>-2.003608</td>\n",
       "      <td>1.074235</td>\n",
       "      <td>-0.702590</td>\n",
       "      <td>0.024753</td>\n",
       "      <td>...</td>\n",
       "      <td>-0.167361</td>\n",
       "      <td>0.434520</td>\n",
       "      <td>0.769891</td>\n",
       "      <td>0.102772</td>\n",
       "      <td>-0.071621</td>\n",
       "      <td>-0.082331</td>\n",
       "      <td>1.00</td>\n",
       "      <td>0</td>\n",
       "      <td>0</td>\n",
       "      <td>0.186322</td>\n",
       "    </tr>\n",
       "    <tr>\n",
       "      <th>4</th>\n",
       "      <td>152242.0</td>\n",
       "      <td>2.108097</td>\n",
       "      <td>0.274271</td>\n",
       "      <td>-2.233325</td>\n",
       "      <td>0.480383</td>\n",
       "      <td>0.568016</td>\n",
       "      <td>-2.003608</td>\n",
       "      <td>1.074235</td>\n",
       "      <td>-0.702590</td>\n",
       "      <td>0.024753</td>\n",
       "      <td>...</td>\n",
       "      <td>-0.167361</td>\n",
       "      <td>0.434520</td>\n",
       "      <td>0.769891</td>\n",
       "      <td>0.102772</td>\n",
       "      <td>-0.071621</td>\n",
       "      <td>-0.082331</td>\n",
       "      <td>1.00</td>\n",
       "      <td>0</td>\n",
       "      <td>0</td>\n",
       "      <td>0.186322</td>\n",
       "    </tr>\n",
       "    <tr>\n",
       "      <th>...</th>\n",
       "      <td>...</td>\n",
       "      <td>...</td>\n",
       "      <td>...</td>\n",
       "      <td>...</td>\n",
       "      <td>...</td>\n",
       "      <td>...</td>\n",
       "      <td>...</td>\n",
       "      <td>...</td>\n",
       "      <td>...</td>\n",
       "      <td>...</td>\n",
       "      <td>...</td>\n",
       "      <td>...</td>\n",
       "      <td>...</td>\n",
       "      <td>...</td>\n",
       "      <td>...</td>\n",
       "      <td>...</td>\n",
       "      <td>...</td>\n",
       "      <td>...</td>\n",
       "      <td>...</td>\n",
       "      <td>...</td>\n",
       "      <td>...</td>\n",
       "    </tr>\n",
       "    <tr>\n",
       "      <th>563</th>\n",
       "      <td>84632.0</td>\n",
       "      <td>-3.698129</td>\n",
       "      <td>1.855492</td>\n",
       "      <td>1.378694</td>\n",
       "      <td>0.330356</td>\n",
       "      <td>-0.946743</td>\n",
       "      <td>0.630004</td>\n",
       "      <td>0.078161</td>\n",
       "      <td>0.560904</td>\n",
       "      <td>2.192314</td>\n",
       "      <td>...</td>\n",
       "      <td>-0.210820</td>\n",
       "      <td>0.036268</td>\n",
       "      <td>0.465915</td>\n",
       "      <td>-0.820087</td>\n",
       "      <td>-1.932227</td>\n",
       "      <td>-1.150570</td>\n",
       "      <td>27.23</td>\n",
       "      <td>0</td>\n",
       "      <td>0</td>\n",
       "      <td>0.168195</td>\n",
       "    </tr>\n",
       "    <tr>\n",
       "      <th>564</th>\n",
       "      <td>132699.0</td>\n",
       "      <td>0.600186</td>\n",
       "      <td>-2.654198</td>\n",
       "      <td>-2.542308</td>\n",
       "      <td>0.456329</td>\n",
       "      <td>0.369346</td>\n",
       "      <td>1.677936</td>\n",
       "      <td>0.666785</td>\n",
       "      <td>0.210393</td>\n",
       "      <td>0.484479</td>\n",
       "      <td>...</td>\n",
       "      <td>-0.466008</td>\n",
       "      <td>-0.858110</td>\n",
       "      <td>-0.373725</td>\n",
       "      <td>0.654709</td>\n",
       "      <td>-0.177613</td>\n",
       "      <td>0.028672</td>\n",
       "      <td>704.51</td>\n",
       "      <td>0</td>\n",
       "      <td>0</td>\n",
       "      <td>0.183351</td>\n",
       "    </tr>\n",
       "    <tr>\n",
       "      <th>565</th>\n",
       "      <td>159079.0</td>\n",
       "      <td>-2.141627</td>\n",
       "      <td>1.741668</td>\n",
       "      <td>-1.785115</td>\n",
       "      <td>0.169074</td>\n",
       "      <td>1.105381</td>\n",
       "      <td>4.401835</td>\n",
       "      <td>-1.399159</td>\n",
       "      <td>2.655034</td>\n",
       "      <td>-0.288513</td>\n",
       "      <td>...</td>\n",
       "      <td>0.383866</td>\n",
       "      <td>0.630810</td>\n",
       "      <td>-0.748851</td>\n",
       "      <td>-1.043738</td>\n",
       "      <td>-0.879596</td>\n",
       "      <td>-0.053450</td>\n",
       "      <td>40.99</td>\n",
       "      <td>0</td>\n",
       "      <td>0</td>\n",
       "      <td>0.169685</td>\n",
       "    </tr>\n",
       "    <tr>\n",
       "      <th>566</th>\n",
       "      <td>119649.0</td>\n",
       "      <td>-6.347908</td>\n",
       "      <td>3.918232</td>\n",
       "      <td>1.415638</td>\n",
       "      <td>-0.634458</td>\n",
       "      <td>0.798707</td>\n",
       "      <td>0.487126</td>\n",
       "      <td>3.246781</td>\n",
       "      <td>-3.639486</td>\n",
       "      <td>7.169955</td>\n",
       "      <td>...</td>\n",
       "      <td>-0.320888</td>\n",
       "      <td>-0.182542</td>\n",
       "      <td>0.643276</td>\n",
       "      <td>-1.408127</td>\n",
       "      <td>-3.702945</td>\n",
       "      <td>-1.181491</td>\n",
       "      <td>15.98</td>\n",
       "      <td>0</td>\n",
       "      <td>0</td>\n",
       "      <td>0.056085</td>\n",
       "    </tr>\n",
       "    <tr>\n",
       "      <th>567</th>\n",
       "      <td>121737.0</td>\n",
       "      <td>-1.426830</td>\n",
       "      <td>0.866512</td>\n",
       "      <td>-0.797662</td>\n",
       "      <td>-1.430469</td>\n",
       "      <td>1.031104</td>\n",
       "      <td>0.004851</td>\n",
       "      <td>1.524817</td>\n",
       "      <td>-0.185037</td>\n",
       "      <td>0.441952</td>\n",
       "      <td>...</td>\n",
       "      <td>-0.406118</td>\n",
       "      <td>-1.407149</td>\n",
       "      <td>0.202385</td>\n",
       "      <td>0.006159</td>\n",
       "      <td>0.996960</td>\n",
       "      <td>0.441100</td>\n",
       "      <td>241.10</td>\n",
       "      <td>0</td>\n",
       "      <td>0</td>\n",
       "      <td>0.185279</td>\n",
       "    </tr>\n",
       "  </tbody>\n",
       "</table>\n",
       "<p>568 rows × 33 columns</p>\n",
       "</div>"
      ],
      "text/plain": [
       "         Time        V1        V2         V3        V4        V5        V6  \\\n",
       "0     93853.0 -5.839192  7.151532 -12.816760  7.031115 -9.651272 -2.938427   \n",
       "1    152242.0  2.108097  0.274271  -2.233325  0.480383  0.568016 -2.003608   \n",
       "2    152242.0  2.108097  0.274271  -2.233325  0.480383  0.568016 -2.003608   \n",
       "3    152242.0  2.108097  0.274271  -2.233325  0.480383  0.568016 -2.003608   \n",
       "4    152242.0  2.108097  0.274271  -2.233325  0.480383  0.568016 -2.003608   \n",
       "..        ...       ...       ...        ...       ...       ...       ...   \n",
       "563   84632.0 -3.698129  1.855492   1.378694  0.330356 -0.946743  0.630004   \n",
       "564  132699.0  0.600186 -2.654198  -2.542308  0.456329  0.369346  1.677936   \n",
       "565  159079.0 -2.141627  1.741668  -1.785115  0.169074  1.105381  4.401835   \n",
       "566  119649.0 -6.347908  3.918232   1.415638 -0.634458  0.798707  0.487126   \n",
       "567  121737.0 -1.426830  0.866512  -0.797662 -1.430469  1.031104  0.004851   \n",
       "\n",
       "            V7        V8        V9  ...       V23       V24       V25  \\\n",
       "0   -11.543207  4.843627 -3.494276  ...  0.530481  0.472670 -0.275998   \n",
       "1     1.074235 -0.702590  0.024753  ... -0.167361  0.434520  0.769891   \n",
       "2     1.074235 -0.702590  0.024753  ... -0.167361  0.434520  0.769891   \n",
       "3     1.074235 -0.702590  0.024753  ... -0.167361  0.434520  0.769891   \n",
       "4     1.074235 -0.702590  0.024753  ... -0.167361  0.434520  0.769891   \n",
       "..         ...       ...       ...  ...       ...       ...       ...   \n",
       "563   0.078161  0.560904  2.192314  ... -0.210820  0.036268  0.465915   \n",
       "564   0.666785  0.210393  0.484479  ... -0.466008 -0.858110 -0.373725   \n",
       "565  -1.399159  2.655034 -0.288513  ...  0.383866  0.630810 -0.748851   \n",
       "566   3.246781 -3.639486  7.169955  ... -0.320888 -0.182542  0.643276   \n",
       "567   1.524817 -0.185037  0.441952  ... -0.406118 -1.407149  0.202385   \n",
       "\n",
       "          V26       V27       V28  Amount  Class  Predicted_Class    Scores  \n",
       "0    0.282435  0.104886  0.254417  316.06      1                1 -0.104614  \n",
       "1    0.102772 -0.071621 -0.082331    1.00      0                0  0.186322  \n",
       "2    0.102772 -0.071621 -0.082331    1.00      0                0  0.186322  \n",
       "3    0.102772 -0.071621 -0.082331    1.00      0                0  0.186322  \n",
       "4    0.102772 -0.071621 -0.082331    1.00      0                0  0.186322  \n",
       "..        ...       ...       ...     ...    ...              ...       ...  \n",
       "563 -0.820087 -1.932227 -1.150570   27.23      0                0  0.168195  \n",
       "564  0.654709 -0.177613  0.028672  704.51      0                0  0.183351  \n",
       "565 -1.043738 -0.879596 -0.053450   40.99      0                0  0.169685  \n",
       "566 -1.408127 -3.702945 -1.181491   15.98      0                0  0.056085  \n",
       "567  0.006159  0.996960  0.441100  241.10      0                0  0.185279  \n",
       "\n",
       "[568 rows x 33 columns]"
      ]
     },
     "execution_count": 98,
     "metadata": {},
     "output_type": "execute_result"
    }
   ],
   "source": [
    "iforest_prediction_test"
   ]
  },
  {
   "cell_type": "markdown",
   "id": "4b22da60",
   "metadata": {},
   "source": [
    "# 5.\tVisualize the scores for Fraudulent and Non-Fraudulent transactions"
   ]
  },
  {
   "cell_type": "code",
   "execution_count": 104,
   "id": "850e3b87",
   "metadata": {},
   "outputs": [
    {
     "data": {
      "text/html": [
       "<div>\n",
       "<style scoped>\n",
       "    .dataframe tbody tr th:only-of-type {\n",
       "        vertical-align: middle;\n",
       "    }\n",
       "\n",
       "    .dataframe tbody tr th {\n",
       "        vertical-align: top;\n",
       "    }\n",
       "\n",
       "    .dataframe thead th {\n",
       "        text-align: right;\n",
       "    }\n",
       "</style>\n",
       "<table border=\"1\" class=\"dataframe\">\n",
       "  <thead>\n",
       "    <tr style=\"text-align: right;\">\n",
       "      <th></th>\n",
       "      <th>Time</th>\n",
       "      <th>V1</th>\n",
       "      <th>V2</th>\n",
       "      <th>V3</th>\n",
       "      <th>V4</th>\n",
       "      <th>V5</th>\n",
       "      <th>V6</th>\n",
       "      <th>V7</th>\n",
       "      <th>V8</th>\n",
       "      <th>V9</th>\n",
       "      <th>...</th>\n",
       "      <th>V22</th>\n",
       "      <th>V23</th>\n",
       "      <th>V24</th>\n",
       "      <th>V25</th>\n",
       "      <th>V26</th>\n",
       "      <th>V27</th>\n",
       "      <th>V28</th>\n",
       "      <th>Amount</th>\n",
       "      <th>Class</th>\n",
       "      <th>Predicted_Class</th>\n",
       "    </tr>\n",
       "  </thead>\n",
       "  <tbody>\n",
       "    <tr>\n",
       "      <th>0</th>\n",
       "      <td>93853.0</td>\n",
       "      <td>-5.839192</td>\n",
       "      <td>7.151532</td>\n",
       "      <td>-12.816760</td>\n",
       "      <td>7.031115</td>\n",
       "      <td>-9.651272</td>\n",
       "      <td>-2.938427</td>\n",
       "      <td>-11.543207</td>\n",
       "      <td>4.843627</td>\n",
       "      <td>-3.494276</td>\n",
       "      <td>...</td>\n",
       "      <td>1.054865</td>\n",
       "      <td>0.530481</td>\n",
       "      <td>0.47267</td>\n",
       "      <td>-0.275998</td>\n",
       "      <td>0.282435</td>\n",
       "      <td>0.104886</td>\n",
       "      <td>0.254417</td>\n",
       "      <td>316.06</td>\n",
       "      <td>1</td>\n",
       "      <td>1</td>\n",
       "    </tr>\n",
       "    <tr>\n",
       "      <th>1</th>\n",
       "      <td>152242.0</td>\n",
       "      <td>2.108097</td>\n",
       "      <td>0.274271</td>\n",
       "      <td>-2.233325</td>\n",
       "      <td>0.480383</td>\n",
       "      <td>0.568016</td>\n",
       "      <td>-2.003608</td>\n",
       "      <td>1.074235</td>\n",
       "      <td>-0.702590</td>\n",
       "      <td>0.024753</td>\n",
       "      <td>...</td>\n",
       "      <td>1.177736</td>\n",
       "      <td>-0.167361</td>\n",
       "      <td>0.43452</td>\n",
       "      <td>0.769891</td>\n",
       "      <td>0.102772</td>\n",
       "      <td>-0.071621</td>\n",
       "      <td>-0.082331</td>\n",
       "      <td>1.00</td>\n",
       "      <td>0</td>\n",
       "      <td>0</td>\n",
       "    </tr>\n",
       "    <tr>\n",
       "      <th>2</th>\n",
       "      <td>152242.0</td>\n",
       "      <td>2.108097</td>\n",
       "      <td>0.274271</td>\n",
       "      <td>-2.233325</td>\n",
       "      <td>0.480383</td>\n",
       "      <td>0.568016</td>\n",
       "      <td>-2.003608</td>\n",
       "      <td>1.074235</td>\n",
       "      <td>-0.702590</td>\n",
       "      <td>0.024753</td>\n",
       "      <td>...</td>\n",
       "      <td>1.177736</td>\n",
       "      <td>-0.167361</td>\n",
       "      <td>0.43452</td>\n",
       "      <td>0.769891</td>\n",
       "      <td>0.102772</td>\n",
       "      <td>-0.071621</td>\n",
       "      <td>-0.082331</td>\n",
       "      <td>1.00</td>\n",
       "      <td>0</td>\n",
       "      <td>0</td>\n",
       "    </tr>\n",
       "    <tr>\n",
       "      <th>3</th>\n",
       "      <td>152242.0</td>\n",
       "      <td>2.108097</td>\n",
       "      <td>0.274271</td>\n",
       "      <td>-2.233325</td>\n",
       "      <td>0.480383</td>\n",
       "      <td>0.568016</td>\n",
       "      <td>-2.003608</td>\n",
       "      <td>1.074235</td>\n",
       "      <td>-0.702590</td>\n",
       "      <td>0.024753</td>\n",
       "      <td>...</td>\n",
       "      <td>1.177736</td>\n",
       "      <td>-0.167361</td>\n",
       "      <td>0.43452</td>\n",
       "      <td>0.769891</td>\n",
       "      <td>0.102772</td>\n",
       "      <td>-0.071621</td>\n",
       "      <td>-0.082331</td>\n",
       "      <td>1.00</td>\n",
       "      <td>0</td>\n",
       "      <td>0</td>\n",
       "    </tr>\n",
       "    <tr>\n",
       "      <th>4</th>\n",
       "      <td>152242.0</td>\n",
       "      <td>2.108097</td>\n",
       "      <td>0.274271</td>\n",
       "      <td>-2.233325</td>\n",
       "      <td>0.480383</td>\n",
       "      <td>0.568016</td>\n",
       "      <td>-2.003608</td>\n",
       "      <td>1.074235</td>\n",
       "      <td>-0.702590</td>\n",
       "      <td>0.024753</td>\n",
       "      <td>...</td>\n",
       "      <td>1.177736</td>\n",
       "      <td>-0.167361</td>\n",
       "      <td>0.43452</td>\n",
       "      <td>0.769891</td>\n",
       "      <td>0.102772</td>\n",
       "      <td>-0.071621</td>\n",
       "      <td>-0.082331</td>\n",
       "      <td>1.00</td>\n",
       "      <td>0</td>\n",
       "      <td>0</td>\n",
       "    </tr>\n",
       "  </tbody>\n",
       "</table>\n",
       "<p>5 rows × 32 columns</p>\n",
       "</div>"
      ],
      "text/plain": [
       "       Time        V1        V2         V3        V4        V5        V6  \\\n",
       "0   93853.0 -5.839192  7.151532 -12.816760  7.031115 -9.651272 -2.938427   \n",
       "1  152242.0  2.108097  0.274271  -2.233325  0.480383  0.568016 -2.003608   \n",
       "2  152242.0  2.108097  0.274271  -2.233325  0.480383  0.568016 -2.003608   \n",
       "3  152242.0  2.108097  0.274271  -2.233325  0.480383  0.568016 -2.003608   \n",
       "4  152242.0  2.108097  0.274271  -2.233325  0.480383  0.568016 -2.003608   \n",
       "\n",
       "          V7        V8        V9  ...       V22       V23      V24       V25  \\\n",
       "0 -11.543207  4.843627 -3.494276  ...  1.054865  0.530481  0.47267 -0.275998   \n",
       "1   1.074235 -0.702590  0.024753  ...  1.177736 -0.167361  0.43452  0.769891   \n",
       "2   1.074235 -0.702590  0.024753  ...  1.177736 -0.167361  0.43452  0.769891   \n",
       "3   1.074235 -0.702590  0.024753  ...  1.177736 -0.167361  0.43452  0.769891   \n",
       "4   1.074235 -0.702590  0.024753  ...  1.177736 -0.167361  0.43452  0.769891   \n",
       "\n",
       "        V26       V27       V28  Amount  Class  Predicted_Class  \n",
       "0  0.282435  0.104886  0.254417  316.06      1                1  \n",
       "1  0.102772 -0.071621 -0.082331    1.00      0                0  \n",
       "2  0.102772 -0.071621 -0.082331    1.00      0                0  \n",
       "3  0.102772 -0.071621 -0.082331    1.00      0                0  \n",
       "4  0.102772 -0.071621 -0.082331    1.00      0                0  \n",
       "\n",
       "[5 rows x 32 columns]"
      ]
     },
     "execution_count": 104,
     "metadata": {},
     "output_type": "execute_result"
    }
   ],
   "source": [
    "from xgboost import XGBClassifier\n",
    "model_XGBC=XGBClassifier(scale_pos_weight=99)\n",
    "model_XGBC.fit( X_train,y_train)\n",
    "Predicted_Class=model_XGBC.predict(X_test) # predict the class\n",
    "Predicted_Class=pd.DataFrame(data=Predicted_Class,columns=['Predicted_Class'])# convert the predicted class to a dataframe\n",
    "XGBC_prediction_test=pd.concat([test_data,Predicted_Class],axis=1)# append the predicted class to the original  test data\n",
    "XGBC_prediction_test.head()"
   ]
  },
  {
   "cell_type": "code",
   "execution_count": 105,
   "id": "401c955b",
   "metadata": {},
   "outputs": [
    {
     "data": {
      "text/plain": [
       "0    562\n",
       "1      6\n",
       "Name: Class, dtype: int64"
      ]
     },
     "execution_count": 105,
     "metadata": {},
     "output_type": "execute_result"
    },
    {
     "data": {
      "image/png": "[encoded data removed]",
      "text/plain": [
       "<Figure size 540x252 with 1 Axes>"
      ]
     },
     "metadata": {
      "needs_background": "light"
     },
     "output_type": "display_data"
    }
   ],
   "source": [
    "sns.countplot(x=XGBC_prediction_test.Class) # Original test Data\n",
    "XGBC_prediction_test.Class.value_counts()"
   ]
  },
  {
   "cell_type": "code",
   "execution_count": 106,
   "id": "28947a3c",
   "metadata": {},
   "outputs": [
    {
     "data": {
      "text/plain": [
       "0    562\n",
       "1      6\n",
       "Name: Predicted_Class, dtype: int64"
      ]
     },
     "execution_count": 106,
     "metadata": {},
     "output_type": "execute_result"
    },
    {
     "data": {
      "image/png": "[encoded data removed]",
      "text/plain": [
       "<Figure size 540x252 with 1 Axes>"
      ]
     },
     "metadata": {
      "needs_background": "light"
     },
     "output_type": "display_data"
    }
   ],
   "source": [
    "sns.countplot(x=XGBC_prediction_test.Predicted_Class) # Predicted test Data\n",
    "XGBC_prediction_test.Predicted_Class.value_counts()"
   ]
  },
  {
   "cell_type": "code",
   "execution_count": 107,
   "id": "8afc1811",
   "metadata": {},
   "outputs": [
    {
     "data": {
      "text/plain": [
       "<seaborn.axisgrid.PairGrid at 0x1fc092158e0>"
      ]
     },
     "execution_count": 107,
     "metadata": {},
     "output_type": "execute_result"
    },
    {
     "data": {
      "image/png": "[encoded data removed]",
      "text/plain": [
       "<Figure size 532.875x360 with 6 Axes>"
      ]
     },
     "metadata": {
      "needs_background": "light"
     },
     "output_type": "display_data"
    }
   ],
   "source": [
    "sns.pairplot(iforest_prediction_test,x_vars=['Amount','Time'],y_vars=['Amount','Time'],kind='scatter',hue='Predicted_Class')"
   ]
  },
  {
   "cell_type": "code",
   "execution_count": 108,
   "id": "138ee837",
   "metadata": {},
   "outputs": [
    {
     "data": {
      "text/plain": [
       "<AxesSubplot:xlabel='Scores', ylabel='Density'>"
      ]
     },
     "execution_count": 108,
     "metadata": {},
     "output_type": "execute_result"
    },
    {
     "data": {
      "image/png": "[encoded data removed]",
      "text/plain": [
       "<Figure size 540x252 with 1 Axes>"
      ]
     },
     "metadata": {
      "needs_background": "light"
     },
     "output_type": "display_data"
    }
   ],
   "source": [
    "#Lets visualize how the score values are distributed for FRAUD transaction from Isolation Forest\n",
    "\n",
    "iforest_prediction_test[iforest_prediction_test.Predicted_Class==1].Scores.describe() # FRAUD Transaction\n",
    "sns.distplot(iforest_prediction_test[iforest_prediction_test.Predicted_Class==1].Scores)"
   ]
  },
  {
   "cell_type": "code",
   "execution_count": 109,
   "id": "8a5d3481",
   "metadata": {},
   "outputs": [
    {
     "data": {
      "text/plain": [
       "<AxesSubplot:xlabel='Scores', ylabel='Density'>"
      ]
     },
     "execution_count": 109,
     "metadata": {},
     "output_type": "execute_result"
    },
    {
     "data": {
      "image/png": "[encoded data removed]",
      "text/plain": [
       "<Figure size 540x252 with 1 Axes>"
      ]
     },
     "metadata": {
      "needs_background": "light"
     },
     "output_type": "display_data"
    }
   ],
   "source": [
    "#Lets visualize how the score values are distributed for NON-FRAUD transaction from Isolation Forest\n",
    "iforest_prediction_test[iforest_prediction_test.Predicted_Class==0].Scores.describe() # NON-FRAUD Transaction\n",
    "#lets visualize how the score values are distributed for NON-FRAUD transaction from Isolation Forest\n",
    "sns.distplot(iforest_prediction_test[iforest_prediction_test.Predicted_Class==0].Scores)"
   ]
  },
  {
   "cell_type": "markdown",
   "id": "c879d787",
   "metadata": {},
   "source": [
    "# Observation:"
   ]
  },
  {
   "cell_type": "markdown",
   "id": "5c717494",
   "metadata": {},
   "source": [
    "\n",
    "From above visualization, we can safely assume that the threshold value for marking or reporting a transaction \n",
    "as fraudulent in our anomaly detection system can be around mean value of the score which is anything less than -0.068"
   ]
  },
  {
   "cell_type": "code",
   "execution_count": 110,
   "id": "a7c15af6",
   "metadata": {},
   "outputs": [
    {
     "data": {
      "text/html": [
       "<div>\n",
       "<style scoped>\n",
       "    .dataframe tbody tr th:only-of-type {\n",
       "        vertical-align: middle;\n",
       "    }\n",
       "\n",
       "    .dataframe tbody tr th {\n",
       "        vertical-align: top;\n",
       "    }\n",
       "\n",
       "    .dataframe thead th {\n",
       "        text-align: right;\n",
       "    }\n",
       "</style>\n",
       "<table border=\"1\" class=\"dataframe\">\n",
       "  <thead>\n",
       "    <tr style=\"text-align: right;\">\n",
       "      <th></th>\n",
       "      <th>Time</th>\n",
       "      <th>V1</th>\n",
       "      <th>V2</th>\n",
       "      <th>V3</th>\n",
       "      <th>V4</th>\n",
       "      <th>V5</th>\n",
       "      <th>V6</th>\n",
       "      <th>V7</th>\n",
       "      <th>V8</th>\n",
       "      <th>V9</th>\n",
       "      <th>V10</th>\n",
       "      <th>V11</th>\n",
       "      <th>V12</th>\n",
       "      <th>V13</th>\n",
       "      <th>V14</th>\n",
       "      <th>V15</th>\n",
       "      <th>V16</th>\n",
       "      <th>V17</th>\n",
       "      <th>V18</th>\n",
       "      <th>V19</th>\n",
       "      <th>V20</th>\n",
       "      <th>V21</th>\n",
       "      <th>V22</th>\n",
       "      <th>V23</th>\n",
       "      <th>V24</th>\n",
       "      <th>V25</th>\n",
       "      <th>V26</th>\n",
       "      <th>V27</th>\n",
       "      <th>V28</th>\n",
       "      <th>Amount</th>\n",
       "      <th>Class</th>\n",
       "      <th>Predicted_Class</th>\n",
       "      <th>Scores</th>\n",
       "    </tr>\n",
       "  </thead>\n",
       "  <tbody>\n",
       "    <tr>\n",
       "      <th>0</th>\n",
       "      <td>93853.0</td>\n",
       "      <td>-5.839192</td>\n",
       "      <td>7.151532</td>\n",
       "      <td>-12.816760</td>\n",
       "      <td>7.031115</td>\n",
       "      <td>-9.651272</td>\n",
       "      <td>-2.938427</td>\n",
       "      <td>-11.543207</td>\n",
       "      <td>4.843627</td>\n",
       "      <td>-3.494276</td>\n",
       "      <td>-13.320789</td>\n",
       "      <td>8.460244</td>\n",
       "      <td>-17.003289</td>\n",
       "      <td>0.101557</td>\n",
       "      <td>-14.094452</td>\n",
       "      <td>0.747031</td>\n",
       "      <td>-12.661696</td>\n",
       "      <td>-18.912494</td>\n",
       "      <td>-6.626975</td>\n",
       "      <td>4.008921</td>\n",
       "      <td>0.055684</td>\n",
       "      <td>2.462056</td>\n",
       "      <td>1.054865</td>\n",
       "      <td>0.530481</td>\n",
       "      <td>0.472670</td>\n",
       "      <td>-0.275998</td>\n",
       "      <td>0.282435</td>\n",
       "      <td>0.104886</td>\n",
       "      <td>0.254417</td>\n",
       "      <td>316.06</td>\n",
       "      <td>1</td>\n",
       "      <td>1</td>\n",
       "      <td>-0.104614</td>\n",
       "    </tr>\n",
       "    <tr>\n",
       "      <th>381</th>\n",
       "      <td>93879.0</td>\n",
       "      <td>-13.086519</td>\n",
       "      <td>7.352148</td>\n",
       "      <td>-18.256576</td>\n",
       "      <td>10.648505</td>\n",
       "      <td>-11.731476</td>\n",
       "      <td>-3.659167</td>\n",
       "      <td>-14.873658</td>\n",
       "      <td>8.810473</td>\n",
       "      <td>-5.418204</td>\n",
       "      <td>-13.202577</td>\n",
       "      <td>6.357227</td>\n",
       "      <td>-15.531611</td>\n",
       "      <td>0.659695</td>\n",
       "      <td>-11.412330</td>\n",
       "      <td>-2.447576</td>\n",
       "      <td>-9.833743</td>\n",
       "      <td>-18.174617</td>\n",
       "      <td>-7.269905</td>\n",
       "      <td>0.623797</td>\n",
       "      <td>-1.376298</td>\n",
       "      <td>2.761157</td>\n",
       "      <td>-0.266162</td>\n",
       "      <td>-0.412861</td>\n",
       "      <td>0.519952</td>\n",
       "      <td>-0.743909</td>\n",
       "      <td>-0.167808</td>\n",
       "      <td>-2.498300</td>\n",
       "      <td>-0.711066</td>\n",
       "      <td>30.31</td>\n",
       "      <td>1</td>\n",
       "      <td>1</td>\n",
       "      <td>-0.120197</td>\n",
       "    </tr>\n",
       "    <tr>\n",
       "      <th>399</th>\n",
       "      <td>85285.0</td>\n",
       "      <td>-6.713407</td>\n",
       "      <td>3.921104</td>\n",
       "      <td>-9.746678</td>\n",
       "      <td>5.148263</td>\n",
       "      <td>-5.151563</td>\n",
       "      <td>-2.099389</td>\n",
       "      <td>-5.937767</td>\n",
       "      <td>3.578780</td>\n",
       "      <td>-4.684952</td>\n",
       "      <td>-8.537758</td>\n",
       "      <td>6.348979</td>\n",
       "      <td>-8.681609</td>\n",
       "      <td>0.251179</td>\n",
       "      <td>-11.608002</td>\n",
       "      <td>-0.351569</td>\n",
       "      <td>-5.363566</td>\n",
       "      <td>-11.939092</td>\n",
       "      <td>-3.583603</td>\n",
       "      <td>0.897402</td>\n",
       "      <td>0.135711</td>\n",
       "      <td>0.954272</td>\n",
       "      <td>-0.451086</td>\n",
       "      <td>0.127214</td>\n",
       "      <td>-0.339450</td>\n",
       "      <td>0.394096</td>\n",
       "      <td>1.075295</td>\n",
       "      <td>1.649906</td>\n",
       "      <td>-0.394905</td>\n",
       "      <td>252.92</td>\n",
       "      <td>1</td>\n",
       "      <td>1</td>\n",
       "      <td>-0.006281</td>\n",
       "    </tr>\n",
       "    <tr>\n",
       "      <th>488</th>\n",
       "      <td>84204.0</td>\n",
       "      <td>-1.927453</td>\n",
       "      <td>1.827621</td>\n",
       "      <td>-7.019495</td>\n",
       "      <td>5.348303</td>\n",
       "      <td>-2.739188</td>\n",
       "      <td>-2.107219</td>\n",
       "      <td>-5.015848</td>\n",
       "      <td>1.205868</td>\n",
       "      <td>-4.382713</td>\n",
       "      <td>-8.337707</td>\n",
       "      <td>7.190306</td>\n",
       "      <td>-9.424844</td>\n",
       "      <td>-0.223293</td>\n",
       "      <td>-12.875494</td>\n",
       "      <td>-0.071918</td>\n",
       "      <td>-6.299961</td>\n",
       "      <td>-12.719207</td>\n",
       "      <td>-3.740176</td>\n",
       "      <td>0.844060</td>\n",
       "      <td>2.172709</td>\n",
       "      <td>1.376938</td>\n",
       "      <td>-0.792017</td>\n",
       "      <td>-0.771414</td>\n",
       "      <td>-0.379574</td>\n",
       "      <td>0.718717</td>\n",
       "      <td>1.111151</td>\n",
       "      <td>1.277707</td>\n",
       "      <td>0.819081</td>\n",
       "      <td>512.25</td>\n",
       "      <td>1</td>\n",
       "      <td>1</td>\n",
       "      <td>-0.024878</td>\n",
       "    </tr>\n",
       "    <tr>\n",
       "      <th>492</th>\n",
       "      <td>93860.0</td>\n",
       "      <td>-10.850282</td>\n",
       "      <td>6.727466</td>\n",
       "      <td>-16.760583</td>\n",
       "      <td>8.425832</td>\n",
       "      <td>-10.252697</td>\n",
       "      <td>-4.192171</td>\n",
       "      <td>-14.077086</td>\n",
       "      <td>7.168288</td>\n",
       "      <td>-3.683242</td>\n",
       "      <td>-15.239962</td>\n",
       "      <td>8.030708</td>\n",
       "      <td>-16.060306</td>\n",
       "      <td>0.270530</td>\n",
       "      <td>-14.952981</td>\n",
       "      <td>-0.241095</td>\n",
       "      <td>-11.866731</td>\n",
       "      <td>-15.486990</td>\n",
       "      <td>-5.748652</td>\n",
       "      <td>4.130031</td>\n",
       "      <td>-0.646818</td>\n",
       "      <td>2.541637</td>\n",
       "      <td>0.135535</td>\n",
       "      <td>-1.023967</td>\n",
       "      <td>0.406265</td>\n",
       "      <td>0.106593</td>\n",
       "      <td>-0.026232</td>\n",
       "      <td>-1.464630</td>\n",
       "      <td>-0.411682</td>\n",
       "      <td>78.00</td>\n",
       "      <td>1</td>\n",
       "      <td>1</td>\n",
       "      <td>-0.106546</td>\n",
       "    </tr>\n",
       "  </tbody>\n",
       "</table>\n",
       "</div>"
      ],
      "text/plain": [
       "        Time         V1        V2         V3         V4         V5        V6  \\\n",
       "0    93853.0  -5.839192  7.151532 -12.816760   7.031115  -9.651272 -2.938427   \n",
       "381  93879.0 -13.086519  7.352148 -18.256576  10.648505 -11.731476 -3.659167   \n",
       "399  85285.0  -6.713407  3.921104  -9.746678   5.148263  -5.151563 -2.099389   \n",
       "488  84204.0  -1.927453  1.827621  -7.019495   5.348303  -2.739188 -2.107219   \n",
       "492  93860.0 -10.850282  6.727466 -16.760583   8.425832 -10.252697 -4.192171   \n",
       "\n",
       "            V7        V8        V9        V10       V11        V12       V13  \\\n",
       "0   -11.543207  4.843627 -3.494276 -13.320789  8.460244 -17.003289  0.101557   \n",
       "381 -14.873658  8.810473 -5.418204 -13.202577  6.357227 -15.531611  0.659695   \n",
       "399  -5.937767  3.578780 -4.684952  -8.537758  6.348979  -8.681609  0.251179   \n",
       "488  -5.015848  1.205868 -4.382713  -8.337707  7.190306  -9.424844 -0.223293   \n",
       "492 -14.077086  7.168288 -3.683242 -15.239962  8.030708 -16.060306  0.270530   \n",
       "\n",
       "           V14       V15        V16        V17       V18       V19       V20  \\\n",
       "0   -14.094452  0.747031 -12.661696 -18.912494 -6.626975  4.008921  0.055684   \n",
       "381 -11.412330 -2.447576  -9.833743 -18.174617 -7.269905  0.623797 -1.376298   \n",
       "399 -11.608002 -0.351569  -5.363566 -11.939092 -3.583603  0.897402  0.135711   \n",
       "488 -12.875494 -0.071918  -6.299961 -12.719207 -3.740176  0.844060  2.172709   \n",
       "492 -14.952981 -0.241095 -11.866731 -15.486990 -5.748652  4.130031 -0.646818   \n",
       "\n",
       "          V21       V22       V23       V24       V25       V26       V27  \\\n",
       "0    2.462056  1.054865  0.530481  0.472670 -0.275998  0.282435  0.104886   \n",
       "381  2.761157 -0.266162 -0.412861  0.519952 -0.743909 -0.167808 -2.498300   \n",
       "399  0.954272 -0.451086  0.127214 -0.339450  0.394096  1.075295  1.649906   \n",
       "488  1.376938 -0.792017 -0.771414 -0.379574  0.718717  1.111151  1.277707   \n",
       "492  2.541637  0.135535 -1.023967  0.406265  0.106593 -0.026232 -1.464630   \n",
       "\n",
       "          V28  Amount  Class  Predicted_Class    Scores  \n",
       "0    0.254417  316.06      1                1 -0.104614  \n",
       "381 -0.711066   30.31      1                1 -0.120197  \n",
       "399 -0.394905  252.92      1                1 -0.006281  \n",
       "488  0.819081  512.25      1                1 -0.024878  \n",
       "492 -0.411682   78.00      1                1 -0.106546  "
      ]
     },
     "execution_count": 110,
     "metadata": {},
     "output_type": "execute_result"
    }
   ],
   "source": [
    "pd.set_option('display.max_columns', 50)\n",
    "pd.set_option('display.max_rows', 200)\n",
    "iforest_prediction_test[iforest_prediction_test.Predicted_Class==1]"
   ]
  },
  {
   "cell_type": "code",
   "execution_count": null,
   "id": "a2bdc0ff",
   "metadata": {},
   "outputs": [],
   "source": []
  },
  {
   "cell_type": "code",
   "execution_count": null,
   "id": "250053a4",
   "metadata": {},
   "outputs": [],
   "source": []
  },
  {
   "cell_type": "code",
   "execution_count": null,
   "id": "169d4de8",
   "metadata": {},
   "outputs": [],
   "source": []
  },
  {
   "cell_type": "code",
   "execution_count": null,
   "id": "09d3650a",
   "metadata": {},
   "outputs": [],
   "source": []
  },
  {
   "cell_type": "code",
   "execution_count": null,
   "id": "f33edfbb",
   "metadata": {},
   "outputs": [],
   "source": []
  },
  {
   "cell_type": "code",
   "execution_count": null,
   "id": "c246f26a",
   "metadata": {},
   "outputs": [],
   "source": []
  }
 ],
 "metadata": {
  "kernelspec": {
   "display_name": "Python 3",
   "language": "python",
   "name": "python3"
  },
  "language_info": {
   "codemirror_mode": {
    "name": "ipython",
    "version": 3
   },
   "file_extension": ".py",
   "mimetype": "text/x-python",
   "name": "python",
   "nbconvert_exporter": "python",
   "pygments_lexer": "ipython3",
   "version": "3.8.8"
  }
 },
 "nbformat": 4,
 "nbformat_minor": 5
}
